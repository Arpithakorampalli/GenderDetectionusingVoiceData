{
  "cells": [
    {
      "cell_type": "code",
      "execution_count": null,
      "metadata": {
        "id": "Emq3b_SFky-8"
      },
      "outputs": [],
      "source": [
        "import pandas as pd\n",
        "import numpy as np\n",
        "import matplotlib.pyplot as pit\n",
        "import seaborn as sns"
      ]
    },
    {
      "cell_type": "markdown",
      "metadata": {
        "id": "9aMRHsqflO_Y"
      },
      "source": [
        "Now we read the data\n"
      ]
    },
    {
      "cell_type": "code",
      "execution_count": null,
      "metadata": {
        "id": "fKCAICdKJnWd",
        "colab": {
          "base_uri": "https://localhost:8080/"
        },
        "outputId": "e2641339-54db-432a-b2e7-8c377d479ed9"
      },
      "outputs": [
        {
          "output_type": "stream",
          "name": "stdout",
          "text": [
            "Drive already mounted at /content/drive; to attempt to forcibly remount, call drive.mount(\"/content/drive\", force_remount=True).\n"
          ]
        }
      ],
      "source": [
        "from google.colab import drive\n",
        "drive.mount('/content/drive')"
      ]
    },
    {
      "cell_type": "code",
      "execution_count": null,
      "metadata": {
        "id": "b0-PJR1IlTWo"
      },
      "outputs": [],
      "source": [
        "df = pd.read_csv(r\"/content/drive/MyDrive/voice.csv\")"
      ]
    },
    {
      "cell_type": "code",
      "execution_count": null,
      "metadata": {
        "id": "kavo7zy6lerA",
        "colab": {
          "base_uri": "https://localhost:8080/"
        },
        "outputId": "a0f85818-0381-46f3-9bd3-1607617ae302"
      },
      "outputs": [
        {
          "output_type": "execute_result",
          "data": {
            "text/plain": [
              "<bound method NDFrame.head of       meanfreq        sd    median       Q25       Q75       IQR       skew  \\\n",
              "0     0.059781  0.064241  0.032027  0.015071  0.090193  0.075122  12.863462   \n",
              "1     0.066009  0.067310  0.040229  0.019414  0.092666  0.073252  22.423285   \n",
              "2     0.077316  0.083829  0.036718  0.008701  0.131908  0.123207  30.757155   \n",
              "3     0.151228  0.072111  0.158011  0.096582  0.207955  0.111374   1.232831   \n",
              "4     0.135120  0.079146  0.124656  0.078720  0.206045  0.127325   1.101174   \n",
              "...        ...       ...       ...       ...       ...       ...        ...   \n",
              "3163  0.131884  0.084734  0.153707  0.049285  0.201144  0.151859   1.762129   \n",
              "3164  0.116221  0.089221  0.076758  0.042718  0.204911  0.162193   0.693730   \n",
              "3165  0.142056  0.095798  0.183731  0.033424  0.224360  0.190936   1.876502   \n",
              "3166  0.143659  0.090628  0.184976  0.043508  0.219943  0.176435   1.591065   \n",
              "3167  0.165509  0.092884  0.183044  0.070072  0.250827  0.180756   1.705029   \n",
              "\n",
              "             kurt    sp.ent       sfm  ...  centroid   meanfun    minfun  \\\n",
              "0      274.402906  0.893369  0.491918  ...  0.059781  0.084279  0.015702   \n",
              "1      634.613855  0.892193  0.513724  ...  0.066009  0.107937  0.015826   \n",
              "2     1024.927705  0.846389  0.478905  ...  0.077316  0.098706  0.015656   \n",
              "3        4.177296  0.963322  0.727232  ...  0.151228  0.088965  0.017798   \n",
              "4        4.333713  0.971955  0.783568  ...  0.135120  0.106398  0.016931   \n",
              "...           ...       ...       ...  ...       ...       ...       ...   \n",
              "3163     6.630383  0.962934  0.763182  ...  0.131884  0.182790  0.083770   \n",
              "3164     2.503954  0.960716  0.709570  ...  0.116221  0.188980  0.034409   \n",
              "3165     6.604509  0.946854  0.654196  ...  0.142056  0.209918  0.039506   \n",
              "3166     5.388298  0.950436  0.675470  ...  0.143659  0.172375  0.034483   \n",
              "3167     5.769115  0.938829  0.601529  ...  0.165509  0.185607  0.062257   \n",
              "\n",
              "        maxfun   meandom    mindom    maxdom   dfrange   modindx   label  \n",
              "0     0.275862  0.007812  0.007812  0.007812  0.000000  0.000000    male  \n",
              "1     0.250000  0.009014  0.007812  0.054688  0.046875  0.052632    male  \n",
              "2     0.271186  0.007990  0.007812  0.015625  0.007812  0.046512    male  \n",
              "3     0.250000  0.201497  0.007812  0.562500  0.554688  0.247119    male  \n",
              "4     0.266667  0.712812  0.007812  5.484375  5.476562  0.208274    male  \n",
              "...        ...       ...       ...       ...       ...       ...     ...  \n",
              "3163  0.262295  0.832899  0.007812  4.210938  4.203125  0.161929  female  \n",
              "3164  0.275862  0.909856  0.039062  3.679688  3.640625  0.277897  female  \n",
              "3165  0.275862  0.494271  0.007812  2.937500  2.929688  0.194759  female  \n",
              "3166  0.250000  0.791360  0.007812  3.593750  3.585938  0.311002  female  \n",
              "3167  0.271186  0.227022  0.007812  0.554688  0.546875  0.350000  female  \n",
              "\n",
              "[3168 rows x 21 columns]>"
            ]
          },
          "metadata": {},
          "execution_count": 7
        }
      ],
      "source": [
        "df.head"
      ]
    },
    {
      "cell_type": "code",
      "execution_count": null,
      "metadata": {
        "id": "7JMJo_dvljn7",
        "colab": {
          "base_uri": "https://localhost:8080/"
        },
        "outputId": "5b7dc710-4bf2-483c-da69-c3499f781699"
      },
      "outputs": [
        {
          "output_type": "execute_result",
          "data": {
            "text/plain": [
              "(3168, 21)"
            ]
          },
          "metadata": {},
          "execution_count": 8
        }
      ],
      "source": [
        "df.shape"
      ]
    },
    {
      "cell_type": "markdown",
      "metadata": {
        "id": "qugJNsOply9v"
      },
      "source": [
        "Checking different attributes present"
      ]
    },
    {
      "cell_type": "code",
      "execution_count": null,
      "metadata": {
        "id": "hKy3snBQl7rm",
        "colab": {
          "base_uri": "https://localhost:8080/"
        },
        "outputId": "090a40b3-03b9-4a83-c435-4f33987362cf"
      },
      "outputs": [
        {
          "output_type": "stream",
          "name": "stdout",
          "text": [
            "Index(['meanfreq', 'sd', 'median', 'Q25', 'Q75', 'IQR', 'skew', 'kurt',\n",
            "       'sp.ent', 'sfm', 'mode', 'centroid', 'meanfun', 'minfun', 'maxfun',\n",
            "       'meandom', 'mindom', 'maxdom', 'dfrange', 'modindx', 'label'],\n",
            "      dtype='object')\n"
          ]
        }
      ],
      "source": [
        "print(df.columns)"
      ]
    },
    {
      "cell_type": "markdown",
      "metadata": {
        "id": "ommuWVq_mEGv"
      },
      "source": [
        "Checking if there exists a null value"
      ]
    },
    {
      "cell_type": "code",
      "execution_count": null,
      "metadata": {
        "id": "QbQTe1wfmBpo",
        "colab": {
          "base_uri": "https://localhost:8080/"
        },
        "outputId": "6db738b4-c0a1-4961-fed9-144341e5c1c8"
      },
      "outputs": [
        {
          "output_type": "execute_result",
          "data": {
            "text/plain": [
              "meanfreq    0\n",
              "sd          0\n",
              "median      0\n",
              "Q25         0\n",
              "Q75         0\n",
              "IQR         0\n",
              "skew        0\n",
              "kurt        0\n",
              "sp.ent      0\n",
              "sfm         0\n",
              "mode        0\n",
              "centroid    0\n",
              "meanfun     0\n",
              "minfun      0\n",
              "maxfun      0\n",
              "meandom     0\n",
              "mindom      0\n",
              "maxdom      0\n",
              "dfrange     0\n",
              "modindx     0\n",
              "label       0\n",
              "dtype: int64"
            ]
          },
          "metadata": {},
          "execution_count": 10
        }
      ],
      "source": [
        "df.isnull().sum()"
      ]
    },
    {
      "cell_type": "code",
      "execution_count": null,
      "metadata": {
        "id": "W3dZSFdcmbl6",
        "colab": {
          "base_uri": "https://localhost:8080/"
        },
        "outputId": "40a6c0cc-20a4-487a-b304-502182ca1701"
      },
      "outputs": [
        {
          "output_type": "stream",
          "name": "stdout",
          "text": [
            "<class 'pandas.core.frame.DataFrame'>\n",
            "RangeIndex: 3168 entries, 0 to 3167\n",
            "Data columns (total 21 columns):\n",
            " #   Column    Non-Null Count  Dtype  \n",
            "---  ------    --------------  -----  \n",
            " 0   meanfreq  3168 non-null   float64\n",
            " 1   sd        3168 non-null   float64\n",
            " 2   median    3168 non-null   float64\n",
            " 3   Q25       3168 non-null   float64\n",
            " 4   Q75       3168 non-null   float64\n",
            " 5   IQR       3168 non-null   float64\n",
            " 6   skew      3168 non-null   float64\n",
            " 7   kurt      3168 non-null   float64\n",
            " 8   sp.ent    3168 non-null   float64\n",
            " 9   sfm       3168 non-null   float64\n",
            " 10  mode      3168 non-null   float64\n",
            " 11  centroid  3168 non-null   float64\n",
            " 12  meanfun   3168 non-null   float64\n",
            " 13  minfun    3168 non-null   float64\n",
            " 14  maxfun    3168 non-null   float64\n",
            " 15  meandom   3168 non-null   float64\n",
            " 16  mindom    3168 non-null   float64\n",
            " 17  maxdom    3168 non-null   float64\n",
            " 18  dfrange   3168 non-null   float64\n",
            " 19  modindx   3168 non-null   float64\n",
            " 20  label     3168 non-null   object \n",
            "dtypes: float64(20), object(1)\n",
            "memory usage: 519.9+ KB\n"
          ]
        }
      ],
      "source": [
        "df.info() # lets check information of each attribute"
      ]
    },
    {
      "cell_type": "markdown",
      "metadata": {
        "id": "A6a5_4j-msU_"
      },
      "source": [
        "adding label to the genders (male/female)"
      ]
    },
    {
      "cell_type": "code",
      "execution_count": null,
      "metadata": {
        "id": "eAla823UnJsy",
        "colab": {
          "base_uri": "https://localhost:8080/"
        },
        "outputId": "e6855654-731d-4a7f-b751-9a091688cd44"
      },
      "outputs": [
        {
          "output_type": "stream",
          "name": "stdout",
          "text": [
            "male      1584\n",
            "female    1584\n",
            "Name: label, dtype: int64\n"
          ]
        }
      ],
      "source": [
        "a = df.label.value_counts()\n",
        "print(a)"
      ]
    },
    {
      "cell_type": "code",
      "execution_count": null,
      "metadata": {
        "id": "4rCIaA8ZnVWA",
        "colab": {
          "base_uri": "https://localhost:8080/",
          "height": 775
        },
        "outputId": "0a97e18e-7dd9-4563-8a0d-4a17e15ebd00"
      },
      "outputs": [
        {
          "output_type": "stream",
          "name": "stderr",
          "text": [
            "<ipython-input-13-f1c6f37cb40f>:1: FutureWarning: The default value of numeric_only in DataFrame.corr is deprecated. In a future version, it will default to False. Select only valid columns or specify the value of numeric_only to silence this warning.\n",
            "  df.corr() #corelation between the different input variables\n"
          ]
        },
        {
          "output_type": "execute_result",
          "data": {
            "text/plain": [
              "          meanfreq        sd    median       Q25       Q75       IQR  \\\n",
              "meanfreq  1.000000 -0.739039  0.925445  0.911416  0.740997 -0.627605   \n",
              "sd       -0.739039  1.000000 -0.562603 -0.846931 -0.161076  0.874660   \n",
              "median    0.925445 -0.562603  1.000000  0.774922  0.731849 -0.477352   \n",
              "Q25       0.911416 -0.846931  0.774922  1.000000  0.477140 -0.874189   \n",
              "Q75       0.740997 -0.161076  0.731849  0.477140  1.000000  0.009636   \n",
              "IQR      -0.627605  0.874660 -0.477352 -0.874189  0.009636  1.000000   \n",
              "skew     -0.322327  0.314597 -0.257407 -0.319475 -0.206339  0.249497   \n",
              "kurt     -0.316036  0.346241 -0.243382 -0.350182 -0.148881  0.316185   \n",
              "sp.ent   -0.601203  0.716620 -0.502005 -0.648126 -0.174905  0.640813   \n",
              "sfm      -0.784332  0.838086 -0.661690 -0.766875 -0.378198  0.663601   \n",
              "mode      0.687715 -0.529150  0.677433  0.591277  0.486857 -0.403764   \n",
              "centroid  1.000000 -0.739039  0.925445  0.911416  0.740997 -0.627605   \n",
              "meanfun   0.460844 -0.466281  0.414909  0.545035  0.155091 -0.534462   \n",
              "minfun    0.383937 -0.345609  0.337602  0.320994  0.258002 -0.222680   \n",
              "maxfun    0.274004 -0.129662  0.251328  0.199841  0.285584 -0.069588   \n",
              "meandom   0.536666 -0.482726  0.455943  0.467403  0.359181 -0.333362   \n",
              "mindom    0.229261 -0.357667  0.191169  0.302255 -0.023750 -0.357037   \n",
              "maxdom    0.519528 -0.482278  0.438919  0.459683  0.335114 -0.337877   \n",
              "dfrange   0.515570 -0.475999  0.435621  0.454394  0.335648 -0.331563   \n",
              "modindx  -0.216979  0.122660 -0.213298 -0.141377 -0.216475  0.041252   \n",
              "\n",
              "              skew      kurt    sp.ent       sfm      mode  centroid  \\\n",
              "meanfreq -0.322327 -0.316036 -0.601203 -0.784332  0.687715  1.000000   \n",
              "sd        0.314597  0.346241  0.716620  0.838086 -0.529150 -0.739039   \n",
              "median   -0.257407 -0.243382 -0.502005 -0.661690  0.677433  0.925445   \n",
              "Q25      -0.319475 -0.350182 -0.648126 -0.766875  0.591277  0.911416   \n",
              "Q75      -0.206339 -0.148881 -0.174905 -0.378198  0.486857  0.740997   \n",
              "IQR       0.249497  0.316185  0.640813  0.663601 -0.403764 -0.627605   \n",
              "skew      1.000000  0.977020 -0.195459  0.079694 -0.434859 -0.322327   \n",
              "kurt      0.977020  1.000000 -0.127644  0.109884 -0.406722 -0.316036   \n",
              "sp.ent   -0.195459 -0.127644  1.000000  0.866411 -0.325298 -0.601203   \n",
              "sfm       0.079694  0.109884  0.866411  1.000000 -0.485913 -0.784332   \n",
              "mode     -0.434859 -0.406722 -0.325298 -0.485913  1.000000  0.687715   \n",
              "centroid -0.322327 -0.316036 -0.601203 -0.784332  0.687715  1.000000   \n",
              "meanfun  -0.167668 -0.194560 -0.513194 -0.421066  0.324771  0.460844   \n",
              "minfun   -0.216954 -0.203201 -0.305826 -0.362100  0.385467  0.383937   \n",
              "maxfun   -0.080861 -0.045667 -0.120738 -0.192369  0.172329  0.274004   \n",
              "meandom  -0.336848 -0.303234 -0.293562 -0.428442  0.491479  0.536666   \n",
              "mindom   -0.061608 -0.103313 -0.294869 -0.289593  0.198150  0.229261   \n",
              "maxdom   -0.305651 -0.274500 -0.324253 -0.436649  0.477187  0.519528   \n",
              "dfrange  -0.304640 -0.272729 -0.319054 -0.431580  0.473775  0.515570   \n",
              "modindx  -0.169325 -0.205539  0.198074  0.211477 -0.182344 -0.216979   \n",
              "\n",
              "           meanfun    minfun    maxfun   meandom    mindom    maxdom  \\\n",
              "meanfreq  0.460844  0.383937  0.274004  0.536666  0.229261  0.519528   \n",
              "sd       -0.466281 -0.345609 -0.129662 -0.482726 -0.357667 -0.482278   \n",
              "median    0.414909  0.337602  0.251328  0.455943  0.191169  0.438919   \n",
              "Q25       0.545035  0.320994  0.199841  0.467403  0.302255  0.459683   \n",
              "Q75       0.155091  0.258002  0.285584  0.359181 -0.023750  0.335114   \n",
              "IQR      -0.534462 -0.222680 -0.069588 -0.333362 -0.357037 -0.337877   \n",
              "skew     -0.167668 -0.216954 -0.080861 -0.336848 -0.061608 -0.305651   \n",
              "kurt     -0.194560 -0.203201 -0.045667 -0.303234 -0.103313 -0.274500   \n",
              "sp.ent   -0.513194 -0.305826 -0.120738 -0.293562 -0.294869 -0.324253   \n",
              "sfm      -0.421066 -0.362100 -0.192369 -0.428442 -0.289593 -0.436649   \n",
              "mode      0.324771  0.385467  0.172329  0.491479  0.198150  0.477187   \n",
              "centroid  0.460844  0.383937  0.274004  0.536666  0.229261  0.519528   \n",
              "meanfun   1.000000  0.339387  0.311950  0.270840  0.162163  0.277982   \n",
              "minfun    0.339387  1.000000  0.213987  0.375979  0.082015  0.317860   \n",
              "maxfun    0.311950  0.213987  1.000000  0.337553 -0.243426  0.355390   \n",
              "meandom   0.270840  0.375979  0.337553  1.000000  0.099656  0.812838   \n",
              "mindom    0.162163  0.082015 -0.243426  0.099656  1.000000  0.026640   \n",
              "maxdom    0.277982  0.317860  0.355390  0.812838  0.026640  1.000000   \n",
              "dfrange   0.275154  0.316486  0.359880  0.811304  0.008666  0.999838   \n",
              "modindx  -0.054858  0.002042 -0.363029 -0.180954  0.200212 -0.425531   \n",
              "\n",
              "           dfrange   modindx  \n",
              "meanfreq  0.515570 -0.216979  \n",
              "sd       -0.475999  0.122660  \n",
              "median    0.435621 -0.213298  \n",
              "Q25       0.454394 -0.141377  \n",
              "Q75       0.335648 -0.216475  \n",
              "IQR      -0.331563  0.041252  \n",
              "skew     -0.304640 -0.169325  \n",
              "kurt     -0.272729 -0.205539  \n",
              "sp.ent   -0.319054  0.198074  \n",
              "sfm      -0.431580  0.211477  \n",
              "mode      0.473775 -0.182344  \n",
              "centroid  0.515570 -0.216979  \n",
              "meanfun   0.275154 -0.054858  \n",
              "minfun    0.316486  0.002042  \n",
              "maxfun    0.359880 -0.363029  \n",
              "meandom   0.811304 -0.180954  \n",
              "mindom    0.008666  0.200212  \n",
              "maxdom    0.999838 -0.425531  \n",
              "dfrange   1.000000 -0.429266  \n",
              "modindx  -0.429266  1.000000  "
            ],
            "text/html": [
              "\n",
              "  <div id=\"df-771b1fac-41b0-4ae9-8f68-daaf5c4733c0\">\n",
              "    <div class=\"colab-df-container\">\n",
              "      <div>\n",
              "<style scoped>\n",
              "    .dataframe tbody tr th:only-of-type {\n",
              "        vertical-align: middle;\n",
              "    }\n",
              "\n",
              "    .dataframe tbody tr th {\n",
              "        vertical-align: top;\n",
              "    }\n",
              "\n",
              "    .dataframe thead th {\n",
              "        text-align: right;\n",
              "    }\n",
              "</style>\n",
              "<table border=\"1\" class=\"dataframe\">\n",
              "  <thead>\n",
              "    <tr style=\"text-align: right;\">\n",
              "      <th></th>\n",
              "      <th>meanfreq</th>\n",
              "      <th>sd</th>\n",
              "      <th>median</th>\n",
              "      <th>Q25</th>\n",
              "      <th>Q75</th>\n",
              "      <th>IQR</th>\n",
              "      <th>skew</th>\n",
              "      <th>kurt</th>\n",
              "      <th>sp.ent</th>\n",
              "      <th>sfm</th>\n",
              "      <th>mode</th>\n",
              "      <th>centroid</th>\n",
              "      <th>meanfun</th>\n",
              "      <th>minfun</th>\n",
              "      <th>maxfun</th>\n",
              "      <th>meandom</th>\n",
              "      <th>mindom</th>\n",
              "      <th>maxdom</th>\n",
              "      <th>dfrange</th>\n",
              "      <th>modindx</th>\n",
              "    </tr>\n",
              "  </thead>\n",
              "  <tbody>\n",
              "    <tr>\n",
              "      <th>meanfreq</th>\n",
              "      <td>1.000000</td>\n",
              "      <td>-0.739039</td>\n",
              "      <td>0.925445</td>\n",
              "      <td>0.911416</td>\n",
              "      <td>0.740997</td>\n",
              "      <td>-0.627605</td>\n",
              "      <td>-0.322327</td>\n",
              "      <td>-0.316036</td>\n",
              "      <td>-0.601203</td>\n",
              "      <td>-0.784332</td>\n",
              "      <td>0.687715</td>\n",
              "      <td>1.000000</td>\n",
              "      <td>0.460844</td>\n",
              "      <td>0.383937</td>\n",
              "      <td>0.274004</td>\n",
              "      <td>0.536666</td>\n",
              "      <td>0.229261</td>\n",
              "      <td>0.519528</td>\n",
              "      <td>0.515570</td>\n",
              "      <td>-0.216979</td>\n",
              "    </tr>\n",
              "    <tr>\n",
              "      <th>sd</th>\n",
              "      <td>-0.739039</td>\n",
              "      <td>1.000000</td>\n",
              "      <td>-0.562603</td>\n",
              "      <td>-0.846931</td>\n",
              "      <td>-0.161076</td>\n",
              "      <td>0.874660</td>\n",
              "      <td>0.314597</td>\n",
              "      <td>0.346241</td>\n",
              "      <td>0.716620</td>\n",
              "      <td>0.838086</td>\n",
              "      <td>-0.529150</td>\n",
              "      <td>-0.739039</td>\n",
              "      <td>-0.466281</td>\n",
              "      <td>-0.345609</td>\n",
              "      <td>-0.129662</td>\n",
              "      <td>-0.482726</td>\n",
              "      <td>-0.357667</td>\n",
              "      <td>-0.482278</td>\n",
              "      <td>-0.475999</td>\n",
              "      <td>0.122660</td>\n",
              "    </tr>\n",
              "    <tr>\n",
              "      <th>median</th>\n",
              "      <td>0.925445</td>\n",
              "      <td>-0.562603</td>\n",
              "      <td>1.000000</td>\n",
              "      <td>0.774922</td>\n",
              "      <td>0.731849</td>\n",
              "      <td>-0.477352</td>\n",
              "      <td>-0.257407</td>\n",
              "      <td>-0.243382</td>\n",
              "      <td>-0.502005</td>\n",
              "      <td>-0.661690</td>\n",
              "      <td>0.677433</td>\n",
              "      <td>0.925445</td>\n",
              "      <td>0.414909</td>\n",
              "      <td>0.337602</td>\n",
              "      <td>0.251328</td>\n",
              "      <td>0.455943</td>\n",
              "      <td>0.191169</td>\n",
              "      <td>0.438919</td>\n",
              "      <td>0.435621</td>\n",
              "      <td>-0.213298</td>\n",
              "    </tr>\n",
              "    <tr>\n",
              "      <th>Q25</th>\n",
              "      <td>0.911416</td>\n",
              "      <td>-0.846931</td>\n",
              "      <td>0.774922</td>\n",
              "      <td>1.000000</td>\n",
              "      <td>0.477140</td>\n",
              "      <td>-0.874189</td>\n",
              "      <td>-0.319475</td>\n",
              "      <td>-0.350182</td>\n",
              "      <td>-0.648126</td>\n",
              "      <td>-0.766875</td>\n",
              "      <td>0.591277</td>\n",
              "      <td>0.911416</td>\n",
              "      <td>0.545035</td>\n",
              "      <td>0.320994</td>\n",
              "      <td>0.199841</td>\n",
              "      <td>0.467403</td>\n",
              "      <td>0.302255</td>\n",
              "      <td>0.459683</td>\n",
              "      <td>0.454394</td>\n",
              "      <td>-0.141377</td>\n",
              "    </tr>\n",
              "    <tr>\n",
              "      <th>Q75</th>\n",
              "      <td>0.740997</td>\n",
              "      <td>-0.161076</td>\n",
              "      <td>0.731849</td>\n",
              "      <td>0.477140</td>\n",
              "      <td>1.000000</td>\n",
              "      <td>0.009636</td>\n",
              "      <td>-0.206339</td>\n",
              "      <td>-0.148881</td>\n",
              "      <td>-0.174905</td>\n",
              "      <td>-0.378198</td>\n",
              "      <td>0.486857</td>\n",
              "      <td>0.740997</td>\n",
              "      <td>0.155091</td>\n",
              "      <td>0.258002</td>\n",
              "      <td>0.285584</td>\n",
              "      <td>0.359181</td>\n",
              "      <td>-0.023750</td>\n",
              "      <td>0.335114</td>\n",
              "      <td>0.335648</td>\n",
              "      <td>-0.216475</td>\n",
              "    </tr>\n",
              "    <tr>\n",
              "      <th>IQR</th>\n",
              "      <td>-0.627605</td>\n",
              "      <td>0.874660</td>\n",
              "      <td>-0.477352</td>\n",
              "      <td>-0.874189</td>\n",
              "      <td>0.009636</td>\n",
              "      <td>1.000000</td>\n",
              "      <td>0.249497</td>\n",
              "      <td>0.316185</td>\n",
              "      <td>0.640813</td>\n",
              "      <td>0.663601</td>\n",
              "      <td>-0.403764</td>\n",
              "      <td>-0.627605</td>\n",
              "      <td>-0.534462</td>\n",
              "      <td>-0.222680</td>\n",
              "      <td>-0.069588</td>\n",
              "      <td>-0.333362</td>\n",
              "      <td>-0.357037</td>\n",
              "      <td>-0.337877</td>\n",
              "      <td>-0.331563</td>\n",
              "      <td>0.041252</td>\n",
              "    </tr>\n",
              "    <tr>\n",
              "      <th>skew</th>\n",
              "      <td>-0.322327</td>\n",
              "      <td>0.314597</td>\n",
              "      <td>-0.257407</td>\n",
              "      <td>-0.319475</td>\n",
              "      <td>-0.206339</td>\n",
              "      <td>0.249497</td>\n",
              "      <td>1.000000</td>\n",
              "      <td>0.977020</td>\n",
              "      <td>-0.195459</td>\n",
              "      <td>0.079694</td>\n",
              "      <td>-0.434859</td>\n",
              "      <td>-0.322327</td>\n",
              "      <td>-0.167668</td>\n",
              "      <td>-0.216954</td>\n",
              "      <td>-0.080861</td>\n",
              "      <td>-0.336848</td>\n",
              "      <td>-0.061608</td>\n",
              "      <td>-0.305651</td>\n",
              "      <td>-0.304640</td>\n",
              "      <td>-0.169325</td>\n",
              "    </tr>\n",
              "    <tr>\n",
              "      <th>kurt</th>\n",
              "      <td>-0.316036</td>\n",
              "      <td>0.346241</td>\n",
              "      <td>-0.243382</td>\n",
              "      <td>-0.350182</td>\n",
              "      <td>-0.148881</td>\n",
              "      <td>0.316185</td>\n",
              "      <td>0.977020</td>\n",
              "      <td>1.000000</td>\n",
              "      <td>-0.127644</td>\n",
              "      <td>0.109884</td>\n",
              "      <td>-0.406722</td>\n",
              "      <td>-0.316036</td>\n",
              "      <td>-0.194560</td>\n",
              "      <td>-0.203201</td>\n",
              "      <td>-0.045667</td>\n",
              "      <td>-0.303234</td>\n",
              "      <td>-0.103313</td>\n",
              "      <td>-0.274500</td>\n",
              "      <td>-0.272729</td>\n",
              "      <td>-0.205539</td>\n",
              "    </tr>\n",
              "    <tr>\n",
              "      <th>sp.ent</th>\n",
              "      <td>-0.601203</td>\n",
              "      <td>0.716620</td>\n",
              "      <td>-0.502005</td>\n",
              "      <td>-0.648126</td>\n",
              "      <td>-0.174905</td>\n",
              "      <td>0.640813</td>\n",
              "      <td>-0.195459</td>\n",
              "      <td>-0.127644</td>\n",
              "      <td>1.000000</td>\n",
              "      <td>0.866411</td>\n",
              "      <td>-0.325298</td>\n",
              "      <td>-0.601203</td>\n",
              "      <td>-0.513194</td>\n",
              "      <td>-0.305826</td>\n",
              "      <td>-0.120738</td>\n",
              "      <td>-0.293562</td>\n",
              "      <td>-0.294869</td>\n",
              "      <td>-0.324253</td>\n",
              "      <td>-0.319054</td>\n",
              "      <td>0.198074</td>\n",
              "    </tr>\n",
              "    <tr>\n",
              "      <th>sfm</th>\n",
              "      <td>-0.784332</td>\n",
              "      <td>0.838086</td>\n",
              "      <td>-0.661690</td>\n",
              "      <td>-0.766875</td>\n",
              "      <td>-0.378198</td>\n",
              "      <td>0.663601</td>\n",
              "      <td>0.079694</td>\n",
              "      <td>0.109884</td>\n",
              "      <td>0.866411</td>\n",
              "      <td>1.000000</td>\n",
              "      <td>-0.485913</td>\n",
              "      <td>-0.784332</td>\n",
              "      <td>-0.421066</td>\n",
              "      <td>-0.362100</td>\n",
              "      <td>-0.192369</td>\n",
              "      <td>-0.428442</td>\n",
              "      <td>-0.289593</td>\n",
              "      <td>-0.436649</td>\n",
              "      <td>-0.431580</td>\n",
              "      <td>0.211477</td>\n",
              "    </tr>\n",
              "    <tr>\n",
              "      <th>mode</th>\n",
              "      <td>0.687715</td>\n",
              "      <td>-0.529150</td>\n",
              "      <td>0.677433</td>\n",
              "      <td>0.591277</td>\n",
              "      <td>0.486857</td>\n",
              "      <td>-0.403764</td>\n",
              "      <td>-0.434859</td>\n",
              "      <td>-0.406722</td>\n",
              "      <td>-0.325298</td>\n",
              "      <td>-0.485913</td>\n",
              "      <td>1.000000</td>\n",
              "      <td>0.687715</td>\n",
              "      <td>0.324771</td>\n",
              "      <td>0.385467</td>\n",
              "      <td>0.172329</td>\n",
              "      <td>0.491479</td>\n",
              "      <td>0.198150</td>\n",
              "      <td>0.477187</td>\n",
              "      <td>0.473775</td>\n",
              "      <td>-0.182344</td>\n",
              "    </tr>\n",
              "    <tr>\n",
              "      <th>centroid</th>\n",
              "      <td>1.000000</td>\n",
              "      <td>-0.739039</td>\n",
              "      <td>0.925445</td>\n",
              "      <td>0.911416</td>\n",
              "      <td>0.740997</td>\n",
              "      <td>-0.627605</td>\n",
              "      <td>-0.322327</td>\n",
              "      <td>-0.316036</td>\n",
              "      <td>-0.601203</td>\n",
              "      <td>-0.784332</td>\n",
              "      <td>0.687715</td>\n",
              "      <td>1.000000</td>\n",
              "      <td>0.460844</td>\n",
              "      <td>0.383937</td>\n",
              "      <td>0.274004</td>\n",
              "      <td>0.536666</td>\n",
              "      <td>0.229261</td>\n",
              "      <td>0.519528</td>\n",
              "      <td>0.515570</td>\n",
              "      <td>-0.216979</td>\n",
              "    </tr>\n",
              "    <tr>\n",
              "      <th>meanfun</th>\n",
              "      <td>0.460844</td>\n",
              "      <td>-0.466281</td>\n",
              "      <td>0.414909</td>\n",
              "      <td>0.545035</td>\n",
              "      <td>0.155091</td>\n",
              "      <td>-0.534462</td>\n",
              "      <td>-0.167668</td>\n",
              "      <td>-0.194560</td>\n",
              "      <td>-0.513194</td>\n",
              "      <td>-0.421066</td>\n",
              "      <td>0.324771</td>\n",
              "      <td>0.460844</td>\n",
              "      <td>1.000000</td>\n",
              "      <td>0.339387</td>\n",
              "      <td>0.311950</td>\n",
              "      <td>0.270840</td>\n",
              "      <td>0.162163</td>\n",
              "      <td>0.277982</td>\n",
              "      <td>0.275154</td>\n",
              "      <td>-0.054858</td>\n",
              "    </tr>\n",
              "    <tr>\n",
              "      <th>minfun</th>\n",
              "      <td>0.383937</td>\n",
              "      <td>-0.345609</td>\n",
              "      <td>0.337602</td>\n",
              "      <td>0.320994</td>\n",
              "      <td>0.258002</td>\n",
              "      <td>-0.222680</td>\n",
              "      <td>-0.216954</td>\n",
              "      <td>-0.203201</td>\n",
              "      <td>-0.305826</td>\n",
              "      <td>-0.362100</td>\n",
              "      <td>0.385467</td>\n",
              "      <td>0.383937</td>\n",
              "      <td>0.339387</td>\n",
              "      <td>1.000000</td>\n",
              "      <td>0.213987</td>\n",
              "      <td>0.375979</td>\n",
              "      <td>0.082015</td>\n",
              "      <td>0.317860</td>\n",
              "      <td>0.316486</td>\n",
              "      <td>0.002042</td>\n",
              "    </tr>\n",
              "    <tr>\n",
              "      <th>maxfun</th>\n",
              "      <td>0.274004</td>\n",
              "      <td>-0.129662</td>\n",
              "      <td>0.251328</td>\n",
              "      <td>0.199841</td>\n",
              "      <td>0.285584</td>\n",
              "      <td>-0.069588</td>\n",
              "      <td>-0.080861</td>\n",
              "      <td>-0.045667</td>\n",
              "      <td>-0.120738</td>\n",
              "      <td>-0.192369</td>\n",
              "      <td>0.172329</td>\n",
              "      <td>0.274004</td>\n",
              "      <td>0.311950</td>\n",
              "      <td>0.213987</td>\n",
              "      <td>1.000000</td>\n",
              "      <td>0.337553</td>\n",
              "      <td>-0.243426</td>\n",
              "      <td>0.355390</td>\n",
              "      <td>0.359880</td>\n",
              "      <td>-0.363029</td>\n",
              "    </tr>\n",
              "    <tr>\n",
              "      <th>meandom</th>\n",
              "      <td>0.536666</td>\n",
              "      <td>-0.482726</td>\n",
              "      <td>0.455943</td>\n",
              "      <td>0.467403</td>\n",
              "      <td>0.359181</td>\n",
              "      <td>-0.333362</td>\n",
              "      <td>-0.336848</td>\n",
              "      <td>-0.303234</td>\n",
              "      <td>-0.293562</td>\n",
              "      <td>-0.428442</td>\n",
              "      <td>0.491479</td>\n",
              "      <td>0.536666</td>\n",
              "      <td>0.270840</td>\n",
              "      <td>0.375979</td>\n",
              "      <td>0.337553</td>\n",
              "      <td>1.000000</td>\n",
              "      <td>0.099656</td>\n",
              "      <td>0.812838</td>\n",
              "      <td>0.811304</td>\n",
              "      <td>-0.180954</td>\n",
              "    </tr>\n",
              "    <tr>\n",
              "      <th>mindom</th>\n",
              "      <td>0.229261</td>\n",
              "      <td>-0.357667</td>\n",
              "      <td>0.191169</td>\n",
              "      <td>0.302255</td>\n",
              "      <td>-0.023750</td>\n",
              "      <td>-0.357037</td>\n",
              "      <td>-0.061608</td>\n",
              "      <td>-0.103313</td>\n",
              "      <td>-0.294869</td>\n",
              "      <td>-0.289593</td>\n",
              "      <td>0.198150</td>\n",
              "      <td>0.229261</td>\n",
              "      <td>0.162163</td>\n",
              "      <td>0.082015</td>\n",
              "      <td>-0.243426</td>\n",
              "      <td>0.099656</td>\n",
              "      <td>1.000000</td>\n",
              "      <td>0.026640</td>\n",
              "      <td>0.008666</td>\n",
              "      <td>0.200212</td>\n",
              "    </tr>\n",
              "    <tr>\n",
              "      <th>maxdom</th>\n",
              "      <td>0.519528</td>\n",
              "      <td>-0.482278</td>\n",
              "      <td>0.438919</td>\n",
              "      <td>0.459683</td>\n",
              "      <td>0.335114</td>\n",
              "      <td>-0.337877</td>\n",
              "      <td>-0.305651</td>\n",
              "      <td>-0.274500</td>\n",
              "      <td>-0.324253</td>\n",
              "      <td>-0.436649</td>\n",
              "      <td>0.477187</td>\n",
              "      <td>0.519528</td>\n",
              "      <td>0.277982</td>\n",
              "      <td>0.317860</td>\n",
              "      <td>0.355390</td>\n",
              "      <td>0.812838</td>\n",
              "      <td>0.026640</td>\n",
              "      <td>1.000000</td>\n",
              "      <td>0.999838</td>\n",
              "      <td>-0.425531</td>\n",
              "    </tr>\n",
              "    <tr>\n",
              "      <th>dfrange</th>\n",
              "      <td>0.515570</td>\n",
              "      <td>-0.475999</td>\n",
              "      <td>0.435621</td>\n",
              "      <td>0.454394</td>\n",
              "      <td>0.335648</td>\n",
              "      <td>-0.331563</td>\n",
              "      <td>-0.304640</td>\n",
              "      <td>-0.272729</td>\n",
              "      <td>-0.319054</td>\n",
              "      <td>-0.431580</td>\n",
              "      <td>0.473775</td>\n",
              "      <td>0.515570</td>\n",
              "      <td>0.275154</td>\n",
              "      <td>0.316486</td>\n",
              "      <td>0.359880</td>\n",
              "      <td>0.811304</td>\n",
              "      <td>0.008666</td>\n",
              "      <td>0.999838</td>\n",
              "      <td>1.000000</td>\n",
              "      <td>-0.429266</td>\n",
              "    </tr>\n",
              "    <tr>\n",
              "      <th>modindx</th>\n",
              "      <td>-0.216979</td>\n",
              "      <td>0.122660</td>\n",
              "      <td>-0.213298</td>\n",
              "      <td>-0.141377</td>\n",
              "      <td>-0.216475</td>\n",
              "      <td>0.041252</td>\n",
              "      <td>-0.169325</td>\n",
              "      <td>-0.205539</td>\n",
              "      <td>0.198074</td>\n",
              "      <td>0.211477</td>\n",
              "      <td>-0.182344</td>\n",
              "      <td>-0.216979</td>\n",
              "      <td>-0.054858</td>\n",
              "      <td>0.002042</td>\n",
              "      <td>-0.363029</td>\n",
              "      <td>-0.180954</td>\n",
              "      <td>0.200212</td>\n",
              "      <td>-0.425531</td>\n",
              "      <td>-0.429266</td>\n",
              "      <td>1.000000</td>\n",
              "    </tr>\n",
              "  </tbody>\n",
              "</table>\n",
              "</div>\n",
              "      <button class=\"colab-df-convert\" onclick=\"convertToInteractive('df-771b1fac-41b0-4ae9-8f68-daaf5c4733c0')\"\n",
              "              title=\"Convert this dataframe to an interactive table.\"\n",
              "              style=\"display:none;\">\n",
              "        \n",
              "  <svg xmlns=\"http://www.w3.org/2000/svg\" height=\"24px\"viewBox=\"0 0 24 24\"\n",
              "       width=\"24px\">\n",
              "    <path d=\"M0 0h24v24H0V0z\" fill=\"none\"/>\n",
              "    <path d=\"M18.56 5.44l.94 2.06.94-2.06 2.06-.94-2.06-.94-.94-2.06-.94 2.06-2.06.94zm-11 1L8.5 8.5l.94-2.06 2.06-.94-2.06-.94L8.5 2.5l-.94 2.06-2.06.94zm10 10l.94 2.06.94-2.06 2.06-.94-2.06-.94-.94-2.06-.94 2.06-2.06.94z\"/><path d=\"M17.41 7.96l-1.37-1.37c-.4-.4-.92-.59-1.43-.59-.52 0-1.04.2-1.43.59L10.3 9.45l-7.72 7.72c-.78.78-.78 2.05 0 2.83L4 21.41c.39.39.9.59 1.41.59.51 0 1.02-.2 1.41-.59l7.78-7.78 2.81-2.81c.8-.78.8-2.07 0-2.86zM5.41 20L4 18.59l7.72-7.72 1.47 1.35L5.41 20z\"/>\n",
              "  </svg>\n",
              "      </button>\n",
              "      \n",
              "  <style>\n",
              "    .colab-df-container {\n",
              "      display:flex;\n",
              "      flex-wrap:wrap;\n",
              "      gap: 12px;\n",
              "    }\n",
              "\n",
              "    .colab-df-convert {\n",
              "      background-color: #E8F0FE;\n",
              "      border: none;\n",
              "      border-radius: 50%;\n",
              "      cursor: pointer;\n",
              "      display: none;\n",
              "      fill: #1967D2;\n",
              "      height: 32px;\n",
              "      padding: 0 0 0 0;\n",
              "      width: 32px;\n",
              "    }\n",
              "\n",
              "    .colab-df-convert:hover {\n",
              "      background-color: #E2EBFA;\n",
              "      box-shadow: 0px 1px 2px rgba(60, 64, 67, 0.3), 0px 1px 3px 1px rgba(60, 64, 67, 0.15);\n",
              "      fill: #174EA6;\n",
              "    }\n",
              "\n",
              "    [theme=dark] .colab-df-convert {\n",
              "      background-color: #3B4455;\n",
              "      fill: #D2E3FC;\n",
              "    }\n",
              "\n",
              "    [theme=dark] .colab-df-convert:hover {\n",
              "      background-color: #434B5C;\n",
              "      box-shadow: 0px 1px 3px 1px rgba(0, 0, 0, 0.15);\n",
              "      filter: drop-shadow(0px 1px 2px rgba(0, 0, 0, 0.3));\n",
              "      fill: #FFFFFF;\n",
              "    }\n",
              "  </style>\n",
              "\n",
              "      <script>\n",
              "        const buttonEl =\n",
              "          document.querySelector('#df-771b1fac-41b0-4ae9-8f68-daaf5c4733c0 button.colab-df-convert');\n",
              "        buttonEl.style.display =\n",
              "          google.colab.kernel.accessAllowed ? 'block' : 'none';\n",
              "\n",
              "        async function convertToInteractive(key) {\n",
              "          const element = document.querySelector('#df-771b1fac-41b0-4ae9-8f68-daaf5c4733c0');\n",
              "          const dataTable =\n",
              "            await google.colab.kernel.invokeFunction('convertToInteractive',\n",
              "                                                     [key], {});\n",
              "          if (!dataTable) return;\n",
              "\n",
              "          const docLinkHtml = 'Like what you see? Visit the ' +\n",
              "            '<a target=\"_blank\" href=https://colab.research.google.com/notebooks/data_table.ipynb>data table notebook</a>'\n",
              "            + ' to learn more about interactive tables.';\n",
              "          element.innerHTML = '';\n",
              "          dataTable['output_type'] = 'display_data';\n",
              "          await google.colab.output.renderOutput(dataTable, element);\n",
              "          const docLink = document.createElement('div');\n",
              "          docLink.innerHTML = docLinkHtml;\n",
              "          element.appendChild(docLink);\n",
              "        }\n",
              "      </script>\n",
              "    </div>\n",
              "  </div>\n",
              "  "
            ]
          },
          "metadata": {},
          "execution_count": 13
        }
      ],
      "source": [
        "df.corr() #corelation between the different input variables"
      ]
    },
    {
      "cell_type": "markdown",
      "metadata": {
        "id": "K7U2l0Gyn2a3"
      },
      "source": [
        "we have label feature has 2 variables, male and female.these are in strings but we need them in integers to classify.therefore we need to convert them from object to integers."
      ]
    },
    {
      "cell_type": "code",
      "execution_count": null,
      "metadata": {
        "id": "1mvZzzRWnw-y"
      },
      "outputs": [],
      "source": [
        "df.label = [1 if each == \"female\" else 0 for each in df.label]\n",
        "# we just now assigned 1 for female and 0 for male."
      ]
    },
    {
      "cell_type": "code",
      "execution_count": null,
      "metadata": {
        "id": "hIIxCubUpBPx",
        "colab": {
          "base_uri": "https://localhost:8080/"
        },
        "outputId": "c5d6d17c-5763-406f-e3fb-bfee7deb048d"
      },
      "outputs": [
        {
          "output_type": "execute_result",
          "data": {
            "text/plain": [
              "0       0\n",
              "1       0\n",
              "2       0\n",
              "3       0\n",
              "4       0\n",
              "       ..\n",
              "3163    1\n",
              "3164    1\n",
              "3165    1\n",
              "3166    1\n",
              "3167    1\n",
              "Name: label, Length: 3168, dtype: int64"
            ]
          },
          "metadata": {},
          "execution_count": 15
        }
      ],
      "source": [
        "df.label"
      ]
    },
    {
      "cell_type": "markdown",
      "metadata": {
        "id": "27eOvuSSFF21"
      },
      "source": [
        "Depicting percentage distribution of label in PIE-chart"
      ]
    },
    {
      "cell_type": "code",
      "execution_count": null,
      "metadata": {
        "id": "pULetP_8FF22",
        "colab": {
          "base_uri": "https://localhost:8080/",
          "height": 561
        },
        "outputId": "b2ed644e-7e06-452b-dbed-0de0fd5cb2ff"
      },
      "outputs": [
        {
          "output_type": "display_data",
          "data": {
            "text/plain": [
              "<Figure size 640x480 with 1 Axes>"
            ],
            "image/png": "[encoded data removed]"
          },
          "metadata": {}
        }
      ],
      "source": [
        "import matplotlib.pyplot as plt\n",
        "gender_values = [1584,1584]\n",
        "gender_types = [\"male\",\"female\"]\n",
        "plt.pie(gender_values, labels= gender_types, radius= 2, autopct = '%0.2f%%', startangle = 90)\n",
        "plt.show()"
      ]
    },
    {
      "cell_type": "markdown",
      "metadata": {
        "id": "z1UMW1W7pGLo"
      },
      "source": [
        "spliting the given data sets into training and testing sets"
      ]
    },
    {
      "cell_type": "code",
      "execution_count": null,
      "metadata": {
        "id": "nOz3Z_LQpSGT"
      },
      "outputs": [],
      "source": [
        "y = df.label.values\n",
        "x = df.drop(['label'], axis='columns')\n",
        "from sklearn.model_selection import train_test_split #importing the class needed for splitting\n",
        "x_train,x_test,y_train,y_test = train_test_split(x,y,test_size = 0.2,random_state = 50)\n",
        "# test size is specified as .2 as we are required to test with 20% data, where as rest is for training(80%)\n",
        "algo_names = [] #empty list\n",
        "algo_scores = [] #empty list"
      ]
    },
    {
      "cell_type": "code",
      "execution_count": null,
      "metadata": {
        "id": "WhvC5WsJrSXk",
        "colab": {
          "base_uri": "https://localhost:8080/"
        },
        "outputId": "0406a7b4-4c30-4e47-86a2-e757db869d07"
      },
      "outputs": [
        {
          "output_type": "execute_result",
          "data": {
            "text/plain": [
              "(2534, 20)"
            ]
          },
          "metadata": {},
          "execution_count": 18
        }
      ],
      "source": [
        "x_train.shape"
      ]
    },
    {
      "cell_type": "code",
      "execution_count": null,
      "metadata": {
        "id": "9w5xjF1lrZ27",
        "colab": {
          "base_uri": "https://localhost:8080/"
        },
        "outputId": "a0d4af4d-5200-4ad4-8902-3f1aa1e3e2d4"
      },
      "outputs": [
        {
          "output_type": "execute_result",
          "data": {
            "text/plain": [
              "(634, 20)"
            ]
          },
          "metadata": {},
          "execution_count": 19
        }
      ],
      "source": [
        "x_test.shape"
      ]
    },
    {
      "cell_type": "code",
      "execution_count": null,
      "metadata": {
        "id": "R50On-czrgah",
        "colab": {
          "base_uri": "https://localhost:8080/",
          "height": 270
        },
        "outputId": "e8020c7d-5794-42fd-b588-9e0a0f13adc7"
      },
      "outputs": [
        {
          "output_type": "execute_result",
          "data": {
            "text/plain": [
              "      meanfreq        sd    median       Q25       Q75       IQR      skew  \\\n",
              "974   0.188291  0.060757  0.196792  0.128553  0.243459  0.114906  1.924342   \n",
              "2769  0.187396  0.044700  0.185598  0.171349  0.206260  0.034911  2.454544   \n",
              "1805  0.177266  0.033878  0.175619  0.166018  0.188938  0.022920  3.261121   \n",
              "175   0.134962  0.062047  0.111388  0.088780  0.189571  0.100791  2.317095   \n",
              "1919  0.097562  0.070847  0.071001  0.038766  0.158224  0.119458  1.430850   \n",
              "\n",
              "           kurt    sp.ent       sfm      mode  centroid   meanfun    minfun  \\\n",
              "974    6.921315  0.898536  0.359334  0.117107  0.188291  0.130205  0.048096   \n",
              "2769   9.671798  0.878222  0.354332  0.174198  0.187396  0.155880  0.048534   \n",
              "1805  14.297520  0.816742  0.226999  0.164469  0.177266  0.164342  0.020833   \n",
              "175    9.072179  0.931091  0.560896  0.104794  0.134962  0.086565  0.016277   \n",
              "1919   4.652448  0.952220  0.664712  0.038555  0.097562  0.148914  0.019851   \n",
              "\n",
              "        maxfun   meandom    mindom    maxdom   dfrange   modindx  \n",
              "974   0.274286  1.341518  0.023438  5.414062  5.390625  0.112298  \n",
              "2769  0.277457  1.388672  0.023438  6.609375  6.585938  0.109103  \n",
              "1805  0.250000  0.596128  0.078125  6.203125  6.125000  0.146104  \n",
              "175   0.275862  0.329346  0.007812  4.265625  4.257812  0.132783  \n",
              "1919  0.222222  0.255774  0.007812  0.640625  0.632812  0.305836  "
            ],
            "text/html": [
              "\n",
              "  <div id=\"df-240c969d-16dd-4831-86d5-e6a4e261ec65\">\n",
              "    <div class=\"colab-df-container\">\n",
              "      <div>\n",
              "<style scoped>\n",
              "    .dataframe tbody tr th:only-of-type {\n",
              "        vertical-align: middle;\n",
              "    }\n",
              "\n",
              "    .dataframe tbody tr th {\n",
              "        vertical-align: top;\n",
              "    }\n",
              "\n",
              "    .dataframe thead th {\n",
              "        text-align: right;\n",
              "    }\n",
              "</style>\n",
              "<table border=\"1\" class=\"dataframe\">\n",
              "  <thead>\n",
              "    <tr style=\"text-align: right;\">\n",
              "      <th></th>\n",
              "      <th>meanfreq</th>\n",
              "      <th>sd</th>\n",
              "      <th>median</th>\n",
              "      <th>Q25</th>\n",
              "      <th>Q75</th>\n",
              "      <th>IQR</th>\n",
              "      <th>skew</th>\n",
              "      <th>kurt</th>\n",
              "      <th>sp.ent</th>\n",
              "      <th>sfm</th>\n",
              "      <th>mode</th>\n",
              "      <th>centroid</th>\n",
              "      <th>meanfun</th>\n",
              "      <th>minfun</th>\n",
              "      <th>maxfun</th>\n",
              "      <th>meandom</th>\n",
              "      <th>mindom</th>\n",
              "      <th>maxdom</th>\n",
              "      <th>dfrange</th>\n",
              "      <th>modindx</th>\n",
              "    </tr>\n",
              "  </thead>\n",
              "  <tbody>\n",
              "    <tr>\n",
              "      <th>974</th>\n",
              "      <td>0.188291</td>\n",
              "      <td>0.060757</td>\n",
              "      <td>0.196792</td>\n",
              "      <td>0.128553</td>\n",
              "      <td>0.243459</td>\n",
              "      <td>0.114906</td>\n",
              "      <td>1.924342</td>\n",
              "      <td>6.921315</td>\n",
              "      <td>0.898536</td>\n",
              "      <td>0.359334</td>\n",
              "      <td>0.117107</td>\n",
              "      <td>0.188291</td>\n",
              "      <td>0.130205</td>\n",
              "      <td>0.048096</td>\n",
              "      <td>0.274286</td>\n",
              "      <td>1.341518</td>\n",
              "      <td>0.023438</td>\n",
              "      <td>5.414062</td>\n",
              "      <td>5.390625</td>\n",
              "      <td>0.112298</td>\n",
              "    </tr>\n",
              "    <tr>\n",
              "      <th>2769</th>\n",
              "      <td>0.187396</td>\n",
              "      <td>0.044700</td>\n",
              "      <td>0.185598</td>\n",
              "      <td>0.171349</td>\n",
              "      <td>0.206260</td>\n",
              "      <td>0.034911</td>\n",
              "      <td>2.454544</td>\n",
              "      <td>9.671798</td>\n",
              "      <td>0.878222</td>\n",
              "      <td>0.354332</td>\n",
              "      <td>0.174198</td>\n",
              "      <td>0.187396</td>\n",
              "      <td>0.155880</td>\n",
              "      <td>0.048534</td>\n",
              "      <td>0.277457</td>\n",
              "      <td>1.388672</td>\n",
              "      <td>0.023438</td>\n",
              "      <td>6.609375</td>\n",
              "      <td>6.585938</td>\n",
              "      <td>0.109103</td>\n",
              "    </tr>\n",
              "    <tr>\n",
              "      <th>1805</th>\n",
              "      <td>0.177266</td>\n",
              "      <td>0.033878</td>\n",
              "      <td>0.175619</td>\n",
              "      <td>0.166018</td>\n",
              "      <td>0.188938</td>\n",
              "      <td>0.022920</td>\n",
              "      <td>3.261121</td>\n",
              "      <td>14.297520</td>\n",
              "      <td>0.816742</td>\n",
              "      <td>0.226999</td>\n",
              "      <td>0.164469</td>\n",
              "      <td>0.177266</td>\n",
              "      <td>0.164342</td>\n",
              "      <td>0.020833</td>\n",
              "      <td>0.250000</td>\n",
              "      <td>0.596128</td>\n",
              "      <td>0.078125</td>\n",
              "      <td>6.203125</td>\n",
              "      <td>6.125000</td>\n",
              "      <td>0.146104</td>\n",
              "    </tr>\n",
              "    <tr>\n",
              "      <th>175</th>\n",
              "      <td>0.134962</td>\n",
              "      <td>0.062047</td>\n",
              "      <td>0.111388</td>\n",
              "      <td>0.088780</td>\n",
              "      <td>0.189571</td>\n",
              "      <td>0.100791</td>\n",
              "      <td>2.317095</td>\n",
              "      <td>9.072179</td>\n",
              "      <td>0.931091</td>\n",
              "      <td>0.560896</td>\n",
              "      <td>0.104794</td>\n",
              "      <td>0.134962</td>\n",
              "      <td>0.086565</td>\n",
              "      <td>0.016277</td>\n",
              "      <td>0.275862</td>\n",
              "      <td>0.329346</td>\n",
              "      <td>0.007812</td>\n",
              "      <td>4.265625</td>\n",
              "      <td>4.257812</td>\n",
              "      <td>0.132783</td>\n",
              "    </tr>\n",
              "    <tr>\n",
              "      <th>1919</th>\n",
              "      <td>0.097562</td>\n",
              "      <td>0.070847</td>\n",
              "      <td>0.071001</td>\n",
              "      <td>0.038766</td>\n",
              "      <td>0.158224</td>\n",
              "      <td>0.119458</td>\n",
              "      <td>1.430850</td>\n",
              "      <td>4.652448</td>\n",
              "      <td>0.952220</td>\n",
              "      <td>0.664712</td>\n",
              "      <td>0.038555</td>\n",
              "      <td>0.097562</td>\n",
              "      <td>0.148914</td>\n",
              "      <td>0.019851</td>\n",
              "      <td>0.222222</td>\n",
              "      <td>0.255774</td>\n",
              "      <td>0.007812</td>\n",
              "      <td>0.640625</td>\n",
              "      <td>0.632812</td>\n",
              "      <td>0.305836</td>\n",
              "    </tr>\n",
              "  </tbody>\n",
              "</table>\n",
              "</div>\n",
              "      <button class=\"colab-df-convert\" onclick=\"convertToInteractive('df-240c969d-16dd-4831-86d5-e6a4e261ec65')\"\n",
              "              title=\"Convert this dataframe to an interactive table.\"\n",
              "              style=\"display:none;\">\n",
              "        \n",
              "  <svg xmlns=\"http://www.w3.org/2000/svg\" height=\"24px\"viewBox=\"0 0 24 24\"\n",
              "       width=\"24px\">\n",
              "    <path d=\"M0 0h24v24H0V0z\" fill=\"none\"/>\n",
              "    <path d=\"M18.56 5.44l.94 2.06.94-2.06 2.06-.94-2.06-.94-.94-2.06-.94 2.06-2.06.94zm-11 1L8.5 8.5l.94-2.06 2.06-.94-2.06-.94L8.5 2.5l-.94 2.06-2.06.94zm10 10l.94 2.06.94-2.06 2.06-.94-2.06-.94-.94-2.06-.94 2.06-2.06.94z\"/><path d=\"M17.41 7.96l-1.37-1.37c-.4-.4-.92-.59-1.43-.59-.52 0-1.04.2-1.43.59L10.3 9.45l-7.72 7.72c-.78.78-.78 2.05 0 2.83L4 21.41c.39.39.9.59 1.41.59.51 0 1.02-.2 1.41-.59l7.78-7.78 2.81-2.81c.8-.78.8-2.07 0-2.86zM5.41 20L4 18.59l7.72-7.72 1.47 1.35L5.41 20z\"/>\n",
              "  </svg>\n",
              "      </button>\n",
              "      \n",
              "  <style>\n",
              "    .colab-df-container {\n",
              "      display:flex;\n",
              "      flex-wrap:wrap;\n",
              "      gap: 12px;\n",
              "    }\n",
              "\n",
              "    .colab-df-convert {\n",
              "      background-color: #E8F0FE;\n",
              "      border: none;\n",
              "      border-radius: 50%;\n",
              "      cursor: pointer;\n",
              "      display: none;\n",
              "      fill: #1967D2;\n",
              "      height: 32px;\n",
              "      padding: 0 0 0 0;\n",
              "      width: 32px;\n",
              "    }\n",
              "\n",
              "    .colab-df-convert:hover {\n",
              "      background-color: #E2EBFA;\n",
              "      box-shadow: 0px 1px 2px rgba(60, 64, 67, 0.3), 0px 1px 3px 1px rgba(60, 64, 67, 0.15);\n",
              "      fill: #174EA6;\n",
              "    }\n",
              "\n",
              "    [theme=dark] .colab-df-convert {\n",
              "      background-color: #3B4455;\n",
              "      fill: #D2E3FC;\n",
              "    }\n",
              "\n",
              "    [theme=dark] .colab-df-convert:hover {\n",
              "      background-color: #434B5C;\n",
              "      box-shadow: 0px 1px 3px 1px rgba(0, 0, 0, 0.15);\n",
              "      filter: drop-shadow(0px 1px 2px rgba(0, 0, 0, 0.3));\n",
              "      fill: #FFFFFF;\n",
              "    }\n",
              "  </style>\n",
              "\n",
              "      <script>\n",
              "        const buttonEl =\n",
              "          document.querySelector('#df-240c969d-16dd-4831-86d5-e6a4e261ec65 button.colab-df-convert');\n",
              "        buttonEl.style.display =\n",
              "          google.colab.kernel.accessAllowed ? 'block' : 'none';\n",
              "\n",
              "        async function convertToInteractive(key) {\n",
              "          const element = document.querySelector('#df-240c969d-16dd-4831-86d5-e6a4e261ec65');\n",
              "          const dataTable =\n",
              "            await google.colab.kernel.invokeFunction('convertToInteractive',\n",
              "                                                     [key], {});\n",
              "          if (!dataTable) return;\n",
              "\n",
              "          const docLinkHtml = 'Like what you see? Visit the ' +\n",
              "            '<a target=\"_blank\" href=https://colab.research.google.com/notebooks/data_table.ipynb>data table notebook</a>'\n",
              "            + ' to learn more about interactive tables.';\n",
              "          element.innerHTML = '';\n",
              "          dataTable['output_type'] = 'display_data';\n",
              "          await google.colab.output.renderOutput(dataTable, element);\n",
              "          const docLink = document.createElement('div');\n",
              "          docLink.innerHTML = docLinkHtml;\n",
              "          element.appendChild(docLink);\n",
              "        }\n",
              "      </script>\n",
              "    </div>\n",
              "  </div>\n",
              "  "
            ]
          },
          "metadata": {},
          "execution_count": 20
        }
      ],
      "source": [
        "x_train.head()"
      ]
    },
    {
      "cell_type": "code",
      "execution_count": null,
      "metadata": {
        "id": "A5vbxITkrj2b",
        "colab": {
          "base_uri": "https://localhost:8080/",
          "height": 270
        },
        "outputId": "bd177e9a-eaed-485f-bcf3-ae46706d2171"
      },
      "outputs": [
        {
          "output_type": "execute_result",
          "data": {
            "text/plain": [
              "      meanfreq        sd    median       Q25       Q75       IQR      skew  \\\n",
              "1943  0.199387  0.035440  0.196046  0.180719  0.226471  0.045752  2.342196   \n",
              "1468  0.180948  0.057879  0.189041  0.132603  0.225205  0.092603  1.562671   \n",
              "2239  0.132306  0.085839  0.107795  0.054398  0.212253  0.157855  0.692271   \n",
              "2704  0.235197  0.039530  0.247816  0.210805  0.265517  0.054713  1.698306   \n",
              "2090  0.188501  0.035064  0.188628  0.173761  0.208761  0.035000  2.151623   \n",
              "\n",
              "          kurt    sp.ent       sfm      mode  centroid   meanfun    minfun  \\\n",
              "1943  9.294968  0.860738  0.210884  0.184150  0.199387  0.159956  0.027119   \n",
              "1468  5.363529  0.907099  0.344087  0.196164  0.180948  0.119247  0.047904   \n",
              "2239  3.413059  0.975727  0.813630  0.036043  0.132306  0.198034  0.048485   \n",
              "2704  5.103168  0.851173  0.190029  0.280000  0.235197  0.167994  0.049793   \n",
              "2090  7.274641  0.847281  0.243426  0.175619  0.188501  0.182723  0.026936   \n",
              "\n",
              "        maxfun   meandom    mindom    maxdom   dfrange   modindx  \n",
              "1943  0.271186  0.898438  0.007812  5.976562  5.968750  0.189915  \n",
              "1468  0.277457  0.805192  0.023438  4.500000  4.476562  0.193176  \n",
              "2239  0.271186  0.571514  0.031250  1.390625  1.359375  0.459770  \n",
              "2704  0.277457  1.707031  0.023438  8.976562  8.953125  0.153508  \n",
              "2090  0.246154  1.029119  0.164062  6.968750  6.804688  0.229392  "
            ],
            "text/html": [
              "\n",
              "  <div id=\"df-03e38507-8e1f-40f7-818c-0574ae3b85af\">\n",
              "    <div class=\"colab-df-container\">\n",
              "      <div>\n",
              "<style scoped>\n",
              "    .dataframe tbody tr th:only-of-type {\n",
              "        vertical-align: middle;\n",
              "    }\n",
              "\n",
              "    .dataframe tbody tr th {\n",
              "        vertical-align: top;\n",
              "    }\n",
              "\n",
              "    .dataframe thead th {\n",
              "        text-align: right;\n",
              "    }\n",
              "</style>\n",
              "<table border=\"1\" class=\"dataframe\">\n",
              "  <thead>\n",
              "    <tr style=\"text-align: right;\">\n",
              "      <th></th>\n",
              "      <th>meanfreq</th>\n",
              "      <th>sd</th>\n",
              "      <th>median</th>\n",
              "      <th>Q25</th>\n",
              "      <th>Q75</th>\n",
              "      <th>IQR</th>\n",
              "      <th>skew</th>\n",
              "      <th>kurt</th>\n",
              "      <th>sp.ent</th>\n",
              "      <th>sfm</th>\n",
              "      <th>mode</th>\n",
              "      <th>centroid</th>\n",
              "      <th>meanfun</th>\n",
              "      <th>minfun</th>\n",
              "      <th>maxfun</th>\n",
              "      <th>meandom</th>\n",
              "      <th>mindom</th>\n",
              "      <th>maxdom</th>\n",
              "      <th>dfrange</th>\n",
              "      <th>modindx</th>\n",
              "    </tr>\n",
              "  </thead>\n",
              "  <tbody>\n",
              "    <tr>\n",
              "      <th>1943</th>\n",
              "      <td>0.199387</td>\n",
              "      <td>0.035440</td>\n",
              "      <td>0.196046</td>\n",
              "      <td>0.180719</td>\n",
              "      <td>0.226471</td>\n",
              "      <td>0.045752</td>\n",
              "      <td>2.342196</td>\n",
              "      <td>9.294968</td>\n",
              "      <td>0.860738</td>\n",
              "      <td>0.210884</td>\n",
              "      <td>0.184150</td>\n",
              "      <td>0.199387</td>\n",
              "      <td>0.159956</td>\n",
              "      <td>0.027119</td>\n",
              "      <td>0.271186</td>\n",
              "      <td>0.898438</td>\n",
              "      <td>0.007812</td>\n",
              "      <td>5.976562</td>\n",
              "      <td>5.968750</td>\n",
              "      <td>0.189915</td>\n",
              "    </tr>\n",
              "    <tr>\n",
              "      <th>1468</th>\n",
              "      <td>0.180948</td>\n",
              "      <td>0.057879</td>\n",
              "      <td>0.189041</td>\n",
              "      <td>0.132603</td>\n",
              "      <td>0.225205</td>\n",
              "      <td>0.092603</td>\n",
              "      <td>1.562671</td>\n",
              "      <td>5.363529</td>\n",
              "      <td>0.907099</td>\n",
              "      <td>0.344087</td>\n",
              "      <td>0.196164</td>\n",
              "      <td>0.180948</td>\n",
              "      <td>0.119247</td>\n",
              "      <td>0.047904</td>\n",
              "      <td>0.277457</td>\n",
              "      <td>0.805192</td>\n",
              "      <td>0.023438</td>\n",
              "      <td>4.500000</td>\n",
              "      <td>4.476562</td>\n",
              "      <td>0.193176</td>\n",
              "    </tr>\n",
              "    <tr>\n",
              "      <th>2239</th>\n",
              "      <td>0.132306</td>\n",
              "      <td>0.085839</td>\n",
              "      <td>0.107795</td>\n",
              "      <td>0.054398</td>\n",
              "      <td>0.212253</td>\n",
              "      <td>0.157855</td>\n",
              "      <td>0.692271</td>\n",
              "      <td>3.413059</td>\n",
              "      <td>0.975727</td>\n",
              "      <td>0.813630</td>\n",
              "      <td>0.036043</td>\n",
              "      <td>0.132306</td>\n",
              "      <td>0.198034</td>\n",
              "      <td>0.048485</td>\n",
              "      <td>0.271186</td>\n",
              "      <td>0.571514</td>\n",
              "      <td>0.031250</td>\n",
              "      <td>1.390625</td>\n",
              "      <td>1.359375</td>\n",
              "      <td>0.459770</td>\n",
              "    </tr>\n",
              "    <tr>\n",
              "      <th>2704</th>\n",
              "      <td>0.235197</td>\n",
              "      <td>0.039530</td>\n",
              "      <td>0.247816</td>\n",
              "      <td>0.210805</td>\n",
              "      <td>0.265517</td>\n",
              "      <td>0.054713</td>\n",
              "      <td>1.698306</td>\n",
              "      <td>5.103168</td>\n",
              "      <td>0.851173</td>\n",
              "      <td>0.190029</td>\n",
              "      <td>0.280000</td>\n",
              "      <td>0.235197</td>\n",
              "      <td>0.167994</td>\n",
              "      <td>0.049793</td>\n",
              "      <td>0.277457</td>\n",
              "      <td>1.707031</td>\n",
              "      <td>0.023438</td>\n",
              "      <td>8.976562</td>\n",
              "      <td>8.953125</td>\n",
              "      <td>0.153508</td>\n",
              "    </tr>\n",
              "    <tr>\n",
              "      <th>2090</th>\n",
              "      <td>0.188501</td>\n",
              "      <td>0.035064</td>\n",
              "      <td>0.188628</td>\n",
              "      <td>0.173761</td>\n",
              "      <td>0.208761</td>\n",
              "      <td>0.035000</td>\n",
              "      <td>2.151623</td>\n",
              "      <td>7.274641</td>\n",
              "      <td>0.847281</td>\n",
              "      <td>0.243426</td>\n",
              "      <td>0.175619</td>\n",
              "      <td>0.188501</td>\n",
              "      <td>0.182723</td>\n",
              "      <td>0.026936</td>\n",
              "      <td>0.246154</td>\n",
              "      <td>1.029119</td>\n",
              "      <td>0.164062</td>\n",
              "      <td>6.968750</td>\n",
              "      <td>6.804688</td>\n",
              "      <td>0.229392</td>\n",
              "    </tr>\n",
              "  </tbody>\n",
              "</table>\n",
              "</div>\n",
              "      <button class=\"colab-df-convert\" onclick=\"convertToInteractive('df-03e38507-8e1f-40f7-818c-0574ae3b85af')\"\n",
              "              title=\"Convert this dataframe to an interactive table.\"\n",
              "              style=\"display:none;\">\n",
              "        \n",
              "  <svg xmlns=\"http://www.w3.org/2000/svg\" height=\"24px\"viewBox=\"0 0 24 24\"\n",
              "       width=\"24px\">\n",
              "    <path d=\"M0 0h24v24H0V0z\" fill=\"none\"/>\n",
              "    <path d=\"M18.56 5.44l.94 2.06.94-2.06 2.06-.94-2.06-.94-.94-2.06-.94 2.06-2.06.94zm-11 1L8.5 8.5l.94-2.06 2.06-.94-2.06-.94L8.5 2.5l-.94 2.06-2.06.94zm10 10l.94 2.06.94-2.06 2.06-.94-2.06-.94-.94-2.06-.94 2.06-2.06.94z\"/><path d=\"M17.41 7.96l-1.37-1.37c-.4-.4-.92-.59-1.43-.59-.52 0-1.04.2-1.43.59L10.3 9.45l-7.72 7.72c-.78.78-.78 2.05 0 2.83L4 21.41c.39.39.9.59 1.41.59.51 0 1.02-.2 1.41-.59l7.78-7.78 2.81-2.81c.8-.78.8-2.07 0-2.86zM5.41 20L4 18.59l7.72-7.72 1.47 1.35L5.41 20z\"/>\n",
              "  </svg>\n",
              "      </button>\n",
              "      \n",
              "  <style>\n",
              "    .colab-df-container {\n",
              "      display:flex;\n",
              "      flex-wrap:wrap;\n",
              "      gap: 12px;\n",
              "    }\n",
              "\n",
              "    .colab-df-convert {\n",
              "      background-color: #E8F0FE;\n",
              "      border: none;\n",
              "      border-radius: 50%;\n",
              "      cursor: pointer;\n",
              "      display: none;\n",
              "      fill: #1967D2;\n",
              "      height: 32px;\n",
              "      padding: 0 0 0 0;\n",
              "      width: 32px;\n",
              "    }\n",
              "\n",
              "    .colab-df-convert:hover {\n",
              "      background-color: #E2EBFA;\n",
              "      box-shadow: 0px 1px 2px rgba(60, 64, 67, 0.3), 0px 1px 3px 1px rgba(60, 64, 67, 0.15);\n",
              "      fill: #174EA6;\n",
              "    }\n",
              "\n",
              "    [theme=dark] .colab-df-convert {\n",
              "      background-color: #3B4455;\n",
              "      fill: #D2E3FC;\n",
              "    }\n",
              "\n",
              "    [theme=dark] .colab-df-convert:hover {\n",
              "      background-color: #434B5C;\n",
              "      box-shadow: 0px 1px 3px 1px rgba(0, 0, 0, 0.15);\n",
              "      filter: drop-shadow(0px 1px 2px rgba(0, 0, 0, 0.3));\n",
              "      fill: #FFFFFF;\n",
              "    }\n",
              "  </style>\n",
              "\n",
              "      <script>\n",
              "        const buttonEl =\n",
              "          document.querySelector('#df-03e38507-8e1f-40f7-818c-0574ae3b85af button.colab-df-convert');\n",
              "        buttonEl.style.display =\n",
              "          google.colab.kernel.accessAllowed ? 'block' : 'none';\n",
              "\n",
              "        async function convertToInteractive(key) {\n",
              "          const element = document.querySelector('#df-03e38507-8e1f-40f7-818c-0574ae3b85af');\n",
              "          const dataTable =\n",
              "            await google.colab.kernel.invokeFunction('convertToInteractive',\n",
              "                                                     [key], {});\n",
              "          if (!dataTable) return;\n",
              "\n",
              "          const docLinkHtml = 'Like what you see? Visit the ' +\n",
              "            '<a target=\"_blank\" href=https://colab.research.google.com/notebooks/data_table.ipynb>data table notebook</a>'\n",
              "            + ' to learn more about interactive tables.';\n",
              "          element.innerHTML = '';\n",
              "          dataTable['output_type'] = 'display_data';\n",
              "          await google.colab.output.renderOutput(dataTable, element);\n",
              "          const docLink = document.createElement('div');\n",
              "          docLink.innerHTML = docLinkHtml;\n",
              "          element.appendChild(docLink);\n",
              "        }\n",
              "      </script>\n",
              "    </div>\n",
              "  </div>\n",
              "  "
            ]
          },
          "metadata": {},
          "execution_count": 21
        }
      ],
      "source": [
        "x_test.head()"
      ]
    },
    {
      "cell_type": "code",
      "execution_count": null,
      "metadata": {
        "id": "tXFqG0WLFF2-",
        "colab": {
          "base_uri": "https://localhost:8080/",
          "height": 270
        },
        "outputId": "5bbbe0a7-b2c1-43c5-ab3c-2b23900f48aa"
      },
      "outputs": [
        {
          "output_type": "execute_result",
          "data": {
            "text/plain": [
              "      meanfreq        sd    median       Q25       Q75       IQR       skew  \\\n",
              "2014  0.142297  0.083138  0.169747  0.058402  0.217596  0.159194   1.963700   \n",
              "2157  0.183551  0.033172  0.187811  0.178004  0.196637  0.018634   3.361455   \n",
              "1931  0.162205  0.069786  0.182035  0.136821  0.210530  0.073709   4.105541   \n",
              "1504  0.117170  0.076995  0.108125  0.050000  0.201406  0.151406  10.649260   \n",
              "1712  0.240844  0.053585  0.256984  0.236169  0.268792  0.032623   3.203079   \n",
              "\n",
              "            kurt    sp.ent       sfm      mode  centroid   meanfun    minfun  \\\n",
              "2014    7.248161  0.955880  0.700716  0.229604  0.142297  0.178167  0.017877   \n",
              "2157   14.422563  0.785318  0.235786  0.192715  0.183551  0.177953  0.060377   \n",
              "1931   35.655663  0.930920  0.575286  0.000000  0.162205  0.149335  0.027257   \n",
              "1504  228.008040  0.944999  0.653185  0.000000  0.117170  0.111191  0.015640   \n",
              "1712   14.252101  0.824963  0.201548  0.268392  0.240844  0.225755  0.062745   \n",
              "\n",
              "        maxfun   meandom    mindom    maxdom   dfrange   modindx  \n",
              "2014  0.238806  0.308190  0.007812  0.781250  0.773438  0.387335  \n",
              "2157  0.246154  0.622596  0.179688  5.765625  5.585938  0.167133  \n",
              "1931  0.225352  0.663462  0.007812  6.960938  6.953125  0.187743  \n",
              "1504  0.258065  0.081182  0.007812  1.343750  1.335938  0.094542  \n",
              "1712  0.275862  0.638849  0.007812  4.078125  4.070312  0.156384  "
            ],
            "text/html": [
              "\n",
              "  <div id=\"df-f7930017-9a4e-4ab4-b3c8-5b39cd799fd0\">\n",
              "    <div class=\"colab-df-container\">\n",
              "      <div>\n",
              "<style scoped>\n",
              "    .dataframe tbody tr th:only-of-type {\n",
              "        vertical-align: middle;\n",
              "    }\n",
              "\n",
              "    .dataframe tbody tr th {\n",
              "        vertical-align: top;\n",
              "    }\n",
              "\n",
              "    .dataframe thead th {\n",
              "        text-align: right;\n",
              "    }\n",
              "</style>\n",
              "<table border=\"1\" class=\"dataframe\">\n",
              "  <thead>\n",
              "    <tr style=\"text-align: right;\">\n",
              "      <th></th>\n",
              "      <th>meanfreq</th>\n",
              "      <th>sd</th>\n",
              "      <th>median</th>\n",
              "      <th>Q25</th>\n",
              "      <th>Q75</th>\n",
              "      <th>IQR</th>\n",
              "      <th>skew</th>\n",
              "      <th>kurt</th>\n",
              "      <th>sp.ent</th>\n",
              "      <th>sfm</th>\n",
              "      <th>mode</th>\n",
              "      <th>centroid</th>\n",
              "      <th>meanfun</th>\n",
              "      <th>minfun</th>\n",
              "      <th>maxfun</th>\n",
              "      <th>meandom</th>\n",
              "      <th>mindom</th>\n",
              "      <th>maxdom</th>\n",
              "      <th>dfrange</th>\n",
              "      <th>modindx</th>\n",
              "    </tr>\n",
              "  </thead>\n",
              "  <tbody>\n",
              "    <tr>\n",
              "      <th>2014</th>\n",
              "      <td>0.142297</td>\n",
              "      <td>0.083138</td>\n",
              "      <td>0.169747</td>\n",
              "      <td>0.058402</td>\n",
              "      <td>0.217596</td>\n",
              "      <td>0.159194</td>\n",
              "      <td>1.963700</td>\n",
              "      <td>7.248161</td>\n",
              "      <td>0.955880</td>\n",
              "      <td>0.700716</td>\n",
              "      <td>0.229604</td>\n",
              "      <td>0.142297</td>\n",
              "      <td>0.178167</td>\n",
              "      <td>0.017877</td>\n",
              "      <td>0.238806</td>\n",
              "      <td>0.308190</td>\n",
              "      <td>0.007812</td>\n",
              "      <td>0.781250</td>\n",
              "      <td>0.773438</td>\n",
              "      <td>0.387335</td>\n",
              "    </tr>\n",
              "    <tr>\n",
              "      <th>2157</th>\n",
              "      <td>0.183551</td>\n",
              "      <td>0.033172</td>\n",
              "      <td>0.187811</td>\n",
              "      <td>0.178004</td>\n",
              "      <td>0.196637</td>\n",
              "      <td>0.018634</td>\n",
              "      <td>3.361455</td>\n",
              "      <td>14.422563</td>\n",
              "      <td>0.785318</td>\n",
              "      <td>0.235786</td>\n",
              "      <td>0.192715</td>\n",
              "      <td>0.183551</td>\n",
              "      <td>0.177953</td>\n",
              "      <td>0.060377</td>\n",
              "      <td>0.246154</td>\n",
              "      <td>0.622596</td>\n",
              "      <td>0.179688</td>\n",
              "      <td>5.765625</td>\n",
              "      <td>5.585938</td>\n",
              "      <td>0.167133</td>\n",
              "    </tr>\n",
              "    <tr>\n",
              "      <th>1931</th>\n",
              "      <td>0.162205</td>\n",
              "      <td>0.069786</td>\n",
              "      <td>0.182035</td>\n",
              "      <td>0.136821</td>\n",
              "      <td>0.210530</td>\n",
              "      <td>0.073709</td>\n",
              "      <td>4.105541</td>\n",
              "      <td>35.655663</td>\n",
              "      <td>0.930920</td>\n",
              "      <td>0.575286</td>\n",
              "      <td>0.000000</td>\n",
              "      <td>0.162205</td>\n",
              "      <td>0.149335</td>\n",
              "      <td>0.027257</td>\n",
              "      <td>0.225352</td>\n",
              "      <td>0.663462</td>\n",
              "      <td>0.007812</td>\n",
              "      <td>6.960938</td>\n",
              "      <td>6.953125</td>\n",
              "      <td>0.187743</td>\n",
              "    </tr>\n",
              "    <tr>\n",
              "      <th>1504</th>\n",
              "      <td>0.117170</td>\n",
              "      <td>0.076995</td>\n",
              "      <td>0.108125</td>\n",
              "      <td>0.050000</td>\n",
              "      <td>0.201406</td>\n",
              "      <td>0.151406</td>\n",
              "      <td>10.649260</td>\n",
              "      <td>228.008040</td>\n",
              "      <td>0.944999</td>\n",
              "      <td>0.653185</td>\n",
              "      <td>0.000000</td>\n",
              "      <td>0.117170</td>\n",
              "      <td>0.111191</td>\n",
              "      <td>0.015640</td>\n",
              "      <td>0.258065</td>\n",
              "      <td>0.081182</td>\n",
              "      <td>0.007812</td>\n",
              "      <td>1.343750</td>\n",
              "      <td>1.335938</td>\n",
              "      <td>0.094542</td>\n",
              "    </tr>\n",
              "    <tr>\n",
              "      <th>1712</th>\n",
              "      <td>0.240844</td>\n",
              "      <td>0.053585</td>\n",
              "      <td>0.256984</td>\n",
              "      <td>0.236169</td>\n",
              "      <td>0.268792</td>\n",
              "      <td>0.032623</td>\n",
              "      <td>3.203079</td>\n",
              "      <td>14.252101</td>\n",
              "      <td>0.824963</td>\n",
              "      <td>0.201548</td>\n",
              "      <td>0.268392</td>\n",
              "      <td>0.240844</td>\n",
              "      <td>0.225755</td>\n",
              "      <td>0.062745</td>\n",
              "      <td>0.275862</td>\n",
              "      <td>0.638849</td>\n",
              "      <td>0.007812</td>\n",
              "      <td>4.078125</td>\n",
              "      <td>4.070312</td>\n",
              "      <td>0.156384</td>\n",
              "    </tr>\n",
              "  </tbody>\n",
              "</table>\n",
              "</div>\n",
              "      <button class=\"colab-df-convert\" onclick=\"convertToInteractive('df-f7930017-9a4e-4ab4-b3c8-5b39cd799fd0')\"\n",
              "              title=\"Convert this dataframe to an interactive table.\"\n",
              "              style=\"display:none;\">\n",
              "        \n",
              "  <svg xmlns=\"http://www.w3.org/2000/svg\" height=\"24px\"viewBox=\"0 0 24 24\"\n",
              "       width=\"24px\">\n",
              "    <path d=\"M0 0h24v24H0V0z\" fill=\"none\"/>\n",
              "    <path d=\"M18.56 5.44l.94 2.06.94-2.06 2.06-.94-2.06-.94-.94-2.06-.94 2.06-2.06.94zm-11 1L8.5 8.5l.94-2.06 2.06-.94-2.06-.94L8.5 2.5l-.94 2.06-2.06.94zm10 10l.94 2.06.94-2.06 2.06-.94-2.06-.94-.94-2.06-.94 2.06-2.06.94z\"/><path d=\"M17.41 7.96l-1.37-1.37c-.4-.4-.92-.59-1.43-.59-.52 0-1.04.2-1.43.59L10.3 9.45l-7.72 7.72c-.78.78-.78 2.05 0 2.83L4 21.41c.39.39.9.59 1.41.59.51 0 1.02-.2 1.41-.59l7.78-7.78 2.81-2.81c.8-.78.8-2.07 0-2.86zM5.41 20L4 18.59l7.72-7.72 1.47 1.35L5.41 20z\"/>\n",
              "  </svg>\n",
              "      </button>\n",
              "      \n",
              "  <style>\n",
              "    .colab-df-container {\n",
              "      display:flex;\n",
              "      flex-wrap:wrap;\n",
              "      gap: 12px;\n",
              "    }\n",
              "\n",
              "    .colab-df-convert {\n",
              "      background-color: #E8F0FE;\n",
              "      border: none;\n",
              "      border-radius: 50%;\n",
              "      cursor: pointer;\n",
              "      display: none;\n",
              "      fill: #1967D2;\n",
              "      height: 32px;\n",
              "      padding: 0 0 0 0;\n",
              "      width: 32px;\n",
              "    }\n",
              "\n",
              "    .colab-df-convert:hover {\n",
              "      background-color: #E2EBFA;\n",
              "      box-shadow: 0px 1px 2px rgba(60, 64, 67, 0.3), 0px 1px 3px 1px rgba(60, 64, 67, 0.15);\n",
              "      fill: #174EA6;\n",
              "    }\n",
              "\n",
              "    [theme=dark] .colab-df-convert {\n",
              "      background-color: #3B4455;\n",
              "      fill: #D2E3FC;\n",
              "    }\n",
              "\n",
              "    [theme=dark] .colab-df-convert:hover {\n",
              "      background-color: #434B5C;\n",
              "      box-shadow: 0px 1px 3px 1px rgba(0, 0, 0, 0.15);\n",
              "      filter: drop-shadow(0px 1px 2px rgba(0, 0, 0, 0.3));\n",
              "      fill: #FFFFFF;\n",
              "    }\n",
              "  </style>\n",
              "\n",
              "      <script>\n",
              "        const buttonEl =\n",
              "          document.querySelector('#df-f7930017-9a4e-4ab4-b3c8-5b39cd799fd0 button.colab-df-convert');\n",
              "        buttonEl.style.display =\n",
              "          google.colab.kernel.accessAllowed ? 'block' : 'none';\n",
              "\n",
              "        async function convertToInteractive(key) {\n",
              "          const element = document.querySelector('#df-f7930017-9a4e-4ab4-b3c8-5b39cd799fd0');\n",
              "          const dataTable =\n",
              "            await google.colab.kernel.invokeFunction('convertToInteractive',\n",
              "                                                     [key], {});\n",
              "          if (!dataTable) return;\n",
              "\n",
              "          const docLinkHtml = 'Like what you see? Visit the ' +\n",
              "            '<a target=\"_blank\" href=https://colab.research.google.com/notebooks/data_table.ipynb>data table notebook</a>'\n",
              "            + ' to learn more about interactive tables.';\n",
              "          element.innerHTML = '';\n",
              "          dataTable['output_type'] = 'display_data';\n",
              "          await google.colab.output.renderOutput(dataTable, element);\n",
              "          const docLink = document.createElement('div');\n",
              "          docLink.innerHTML = docLinkHtml;\n",
              "          element.appendChild(docLink);\n",
              "        }\n",
              "      </script>\n",
              "    </div>\n",
              "  </div>\n",
              "  "
            ]
          },
          "metadata": {},
          "execution_count": 22
        }
      ],
      "source": [
        "x_train.tail()"
      ]
    },
    {
      "cell_type": "markdown",
      "metadata": {
        "id": "eEs0upsKFF2_"
      },
      "source": [
        "Now we apply different classifier models"
      ]
    },
    {
      "cell_type": "markdown",
      "metadata": {
        "id": "PPEqrFCmFF2_"
      },
      "source": [
        "Decision Tree"
      ]
    },
    {
      "cell_type": "code",
      "execution_count": null,
      "metadata": {
        "id": "XI0Wl0vGFF3A",
        "colab": {
          "base_uri": "https://localhost:8080/"
        },
        "outputId": "1c5e95b9-35be-44c1-a59d-f4c1f0f617b7"
      },
      "outputs": [
        {
          "output_type": "stream",
          "name": "stdout",
          "text": [
            "decision tree classifier score:  0.9511041009463722\n"
          ]
        }
      ],
      "source": [
        "from sklearn.tree import DecisionTreeClassifier\n",
        "dec_tree = DecisionTreeClassifier(random_state = 50)\n",
        "dec_tree.fit(x_train, y_train)\n",
        "print(\"decision tree classifier score: \",dec_tree.score(x_test, y_test)) #accuracy\n",
        "algo_names.append(\"Decision Tree\")\n",
        "algo_scores.append(dec_tree.score(x_test, y_test))\n",
        "p1 = dec_tree.predict(x_test)"
      ]
    },
    {
      "cell_type": "markdown",
      "metadata": {
        "id": "nW9WWZhmFF3B"
      },
      "source": [
        "Random Forest"
      ]
    },
    {
      "cell_type": "code",
      "execution_count": null,
      "metadata": {
        "id": "14p7a5piFF3B",
        "colab": {
          "base_uri": "https://localhost:8080/"
        },
        "outputId": "0c4751cf-aac2-4a57-bb4c-456615cc7841"
      },
      "outputs": [
        {
          "output_type": "stream",
          "name": "stdout",
          "text": [
            "Random Forest classifier score: 0.973186119873817\n"
          ]
        }
      ],
      "source": [
        "from sklearn.ensemble import RandomForestClassifier\n",
        "rand_forest = RandomForestClassifier(random_state = 50)\n",
        "rand_forest.fit(x_train, y_train)\n",
        "print(\"Random Forest classifier score:\",rand_forest.score(x_test, y_test))\n",
        "algo_names.append(\"Random Forest\")\n",
        "algo_scores.append(rand_forest.score(x_test, y_test))\n",
        "p2 = rand_forest.predict(x_test)"
      ]
    },
    {
      "cell_type": "markdown",
      "metadata": {
        "id": "0ivG_GqQFF3C"
      },
      "source": [
        "SVM classifier"
      ]
    },
    {
      "cell_type": "code",
      "execution_count": null,
      "metadata": {
        "id": "kxTlFBs2FF3C",
        "colab": {
          "base_uri": "https://localhost:8080/"
        },
        "outputId": "99d05154-7528-48b0-a560-a97f59694e15"
      },
      "outputs": [
        {
          "output_type": "stream",
          "name": "stdout",
          "text": [
            "SVM classifier score: 0.6750788643533123\n"
          ]
        }
      ],
      "source": [
        "from sklearn.svm import SVC\n",
        "svm = SVC(random_state = 50)\n",
        "svm.fit(x_train, y_train)\n",
        "print(\"SVM classifier score:\",svm.score(x_test, y_test))\n",
        "algo_names.append(\"SVM\")\n",
        "algo_scores.append(svm.score(x_test, y_test))\n",
        "p3 = svm.predict(x_test)"
      ]
    },
    {
      "cell_type": "markdown",
      "metadata": {
        "id": "KacGqunoFF3D"
      },
      "source": [
        "KNN classifier"
      ]
    },
    {
      "cell_type": "code",
      "execution_count": null,
      "metadata": {
        "id": "2_67aTfsFF3E",
        "colab": {
          "base_uri": "https://localhost:8080/"
        },
        "outputId": "56989af8-adfd-4f68-ca62-d4ff9e3602a2"
      },
      "outputs": [
        {
          "output_type": "stream",
          "name": "stdout",
          "text": [
            "K Neighbors Classifier score: 0.6766561514195584\n"
          ]
        }
      ],
      "source": [
        "from sklearn.neighbors import KNeighborsClassifier\n",
        "knn = KNeighborsClassifier(n_neighbors = 50)\n",
        "knn.fit(x_train, y_train)\n",
        "print(\"K Neighbors Classifier score:\",knn.score(x_test, y_test))\n",
        "algo_names.append(\"KNeighbors\")\n",
        "algo_scores.append(knn.score(x_test, y_test))\n",
        "p4 = knn.predict(x_test)"
      ]
    },
    {
      "cell_type": "markdown",
      "metadata": {
        "id": "SY-2GSeYFF3E"
      },
      "source": [
        "Logistic Regression"
      ]
    },
    {
      "cell_type": "code",
      "execution_count": null,
      "metadata": {
        "id": "pRMIyyGXFF3F",
        "colab": {
          "base_uri": "https://localhost:8080/"
        },
        "outputId": "27bc42a4-ffc5-4a9d-8ea5-76ee0c2fa3fc"
      },
      "outputs": [
        {
          "output_type": "stream",
          "name": "stdout",
          "text": [
            "logistic regression Classifier score: 0.9069400630914827\n"
          ]
        },
        {
          "output_type": "stream",
          "name": "stderr",
          "text": [
            "/usr/local/lib/python3.10/dist-packages/sklearn/linear_model/_logistic.py:458: ConvergenceWarning: lbfgs failed to converge (status=1):\n",
            "STOP: TOTAL NO. of ITERATIONS REACHED LIMIT.\n",
            "\n",
            "Increase the number of iterations (max_iter) or scale the data as shown in:\n",
            "    https://scikit-learn.org/stable/modules/preprocessing.html\n",
            "Please also refer to the documentation for alternative solver options:\n",
            "    https://scikit-learn.org/stable/modules/linear_model.html#logistic-regression\n",
            "  n_iter_i = _check_optimize_result(\n"
          ]
        }
      ],
      "source": [
        "from sklearn.linear_model import LogisticRegression\n",
        "log_reg = LogisticRegression(random_state = 50)\n",
        "log_reg.fit(x_train, y_train)\n",
        "print(\"logistic regression Classifier score:\",log_reg.score(x_test, y_test))\n",
        "algo_names.append(\"Logistic Regression\")\n",
        "algo_scores.append(log_reg.score(x_test, y_test))\n",
        "p5 = log_reg.predict(x_test)"
      ]
    },
    {
      "cell_type": "markdown",
      "metadata": {
        "id": "-3pZ0akdFF3G"
      },
      "source": [
        "printing the different classification reports for each classification"
      ]
    },
    {
      "cell_type": "code",
      "execution_count": null,
      "metadata": {
        "id": "DM-kRdjtFF3H"
      },
      "outputs": [],
      "source": [
        "from sklearn.metrics import classification_report"
      ]
    },
    {
      "cell_type": "markdown",
      "metadata": {
        "id": "uji4yHaCFF3H"
      },
      "source": [
        "decision tree classification report"
      ]
    },
    {
      "cell_type": "code",
      "execution_count": null,
      "metadata": {
        "id": "wIKtjSSLFF3I",
        "colab": {
          "base_uri": "https://localhost:8080/"
        },
        "outputId": "6eba96df-8a76-47c0-cc4f-18079675c9d5"
      },
      "outputs": [
        {
          "output_type": "stream",
          "name": "stdout",
          "text": [
            "              precision    recall  f1-score   support\n",
            "\n",
            "           0       0.95      0.95      0.95       310\n",
            "           1       0.95      0.95      0.95       324\n",
            "\n",
            "    accuracy                           0.95       634\n",
            "   macro avg       0.95      0.95      0.95       634\n",
            "weighted avg       0.95      0.95      0.95       634\n",
            "\n"
          ]
        }
      ],
      "source": [
        "report_dec_tree = classification_report(y_test, p1)\n",
        "print(report_dec_tree)"
      ]
    },
    {
      "cell_type": "markdown",
      "metadata": {
        "id": "WZiUwmsqFF3J"
      },
      "source": [
        "Random Forest classification report"
      ]
    },
    {
      "cell_type": "code",
      "execution_count": null,
      "metadata": {
        "id": "5aCPpNVxFF3J",
        "colab": {
          "base_uri": "https://localhost:8080/"
        },
        "outputId": "930cbb0e-c570-4246-b4df-f6ddd266ccf9"
      },
      "outputs": [
        {
          "output_type": "stream",
          "name": "stdout",
          "text": [
            "              precision    recall  f1-score   support\n",
            "\n",
            "           0       0.98      0.97      0.97       310\n",
            "           1       0.97      0.98      0.97       324\n",
            "\n",
            "    accuracy                           0.97       634\n",
            "   macro avg       0.97      0.97      0.97       634\n",
            "weighted avg       0.97      0.97      0.97       634\n",
            "\n"
          ]
        }
      ],
      "source": [
        "report_rand_forest = classification_report(y_test, p2)\n",
        "print(report_rand_forest)"
      ]
    },
    {
      "cell_type": "markdown",
      "metadata": {
        "id": "XYeH3zKXFF3K"
      },
      "source": [
        "SVM classification report"
      ]
    },
    {
      "cell_type": "code",
      "execution_count": null,
      "metadata": {
        "id": "Gzr4B9mEFF3K",
        "colab": {
          "base_uri": "https://localhost:8080/"
        },
        "outputId": "3713ca21-d24d-41b5-ba42-5b5e1a50c4a8"
      },
      "outputs": [
        {
          "output_type": "stream",
          "name": "stdout",
          "text": [
            "              precision    recall  f1-score   support\n",
            "\n",
            "           0       0.63      0.83      0.71       310\n",
            "           1       0.77      0.52      0.62       324\n",
            "\n",
            "    accuracy                           0.68       634\n",
            "   macro avg       0.70      0.68      0.67       634\n",
            "weighted avg       0.70      0.68      0.67       634\n",
            "\n"
          ]
        }
      ],
      "source": [
        "report_svm = classification_report(y_test, p3)\n",
        "print(report_svm)"
      ]
    },
    {
      "cell_type": "markdown",
      "metadata": {
        "id": "Hw61wc0wFF3L"
      },
      "source": [
        "KNN classification report"
      ]
    },
    {
      "cell_type": "code",
      "execution_count": null,
      "metadata": {
        "id": "qRsxcwt0FF3L",
        "colab": {
          "base_uri": "https://localhost:8080/"
        },
        "outputId": "3329cc79-dd62-4a5f-fe47-d51a28259271"
      },
      "outputs": [
        {
          "output_type": "stream",
          "name": "stdout",
          "text": [
            "              precision    recall  f1-score   support\n",
            "\n",
            "           0       0.66      0.70      0.68       310\n",
            "           1       0.70      0.65      0.67       324\n",
            "\n",
            "    accuracy                           0.68       634\n",
            "   macro avg       0.68      0.68      0.68       634\n",
            "weighted avg       0.68      0.68      0.68       634\n",
            "\n"
          ]
        }
      ],
      "source": [
        "report_knn = classification_report(y_test, p4)\n",
        "print(report_knn)"
      ]
    },
    {
      "cell_type": "markdown",
      "metadata": {
        "id": "QT67Sn3gFF3M"
      },
      "source": [
        "Logistic Regression classification report"
      ]
    },
    {
      "cell_type": "code",
      "execution_count": null,
      "metadata": {
        "id": "M9SeDm1JFF3M",
        "colab": {
          "base_uri": "https://localhost:8080/"
        },
        "outputId": "8b76ce99-496e-4449-cd05-9a277a9d147a"
      },
      "outputs": [
        {
          "output_type": "stream",
          "name": "stdout",
          "text": [
            "              precision    recall  f1-score   support\n",
            "\n",
            "           0       0.86      0.97      0.91       310\n",
            "           1       0.96      0.85      0.90       324\n",
            "\n",
            "    accuracy                           0.91       634\n",
            "   macro avg       0.91      0.91      0.91       634\n",
            "weighted avg       0.91      0.91      0.91       634\n",
            "\n"
          ]
        }
      ],
      "source": [
        "report_log_reg = classification_report(y_test, p5)\n",
        "print(report_log_reg)"
      ]
    },
    {
      "cell_type": "markdown",
      "metadata": {
        "id": "nNbtla40FF3N"
      },
      "source": [
        "Now we plot the confussion matrix for each classifier"
      ]
    },
    {
      "cell_type": "code",
      "execution_count": null,
      "metadata": {
        "id": "I02pp2PsFF3N"
      },
      "outputs": [],
      "source": [
        "from sklearn.metrics import confusion_matrix\n",
        "from matplotlib import pyplot as plt"
      ]
    },
    {
      "cell_type": "markdown",
      "metadata": {
        "id": "JhUfn-cgFF3O"
      },
      "source": [
        "Decission tree confussion matrix"
      ]
    },
    {
      "cell_type": "code",
      "execution_count": null,
      "metadata": {
        "id": "WCtNT-pIFF3O",
        "colab": {
          "base_uri": "https://localhost:8080/",
          "height": 564
        },
        "outputId": "9aba3ef6-8f2f-4257-a249-012a35b999a0"
      },
      "outputs": [
        {
          "output_type": "display_data",
          "data": {
            "text/plain": [
              "<Figure size 600x600 with 2 Axes>"
            ],
            "image/png": "[encoded data removed]"
          },
          "metadata": {}
        }
      ],
      "source": [
        "conf_mat1 = confusion_matrix(y_test,p1)\n",
        "plt.figure(figsize = (6,6))\n",
        "sns.heatmap(conf_mat1, annot = True, fmt =\".0f\")\n",
        "plt.ylabel(\"ACTUAL\")\n",
        "plt.xlabel(\"PREDICTED\")\n",
        "plt.title(\"DECISION TREE CONFUSION MATRIX\")\n",
        "plt.show()"
      ]
    },
    {
      "cell_type": "markdown",
      "metadata": {
        "id": "v3Yk9-jVFF3P"
      },
      "source": [
        "Random Forest confussion matrix"
      ]
    },
    {
      "cell_type": "code",
      "execution_count": null,
      "metadata": {
        "id": "NXzVXz5oFF3P",
        "colab": {
          "base_uri": "https://localhost:8080/",
          "height": 564
        },
        "outputId": "1a8a2054-981c-478a-aa2b-0ec636e1ca81"
      },
      "outputs": [
        {
          "output_type": "display_data",
          "data": {
            "text/plain": [
              "<Figure size 600x600 with 2 Axes>"
            ],
            "image/png": "[encoded data removed]"
          },
          "metadata": {}
        }
      ],
      "source": [
        "conf_mat2 = confusion_matrix(y_test,p2)\n",
        "plt.figure(figsize = (6,6))\n",
        "sns.heatmap(conf_mat2, annot = True, fmt =\".0f\")\n",
        "plt.ylabel(\"ACTUAL\")\n",
        "plt.xlabel(\"PREDICTED\")\n",
        "plt.title(\"RANDOM FOREST CONFUSION MATRIX\")\n",
        "plt.show()"
      ]
    },
    {
      "cell_type": "markdown",
      "metadata": {
        "id": "CzI0Xki8FF3Q"
      },
      "source": [
        "SVM confusion matrix"
      ]
    },
    {
      "cell_type": "code",
      "execution_count": null,
      "metadata": {
        "id": "TC-YzX5IFF3Q",
        "colab": {
          "base_uri": "https://localhost:8080/",
          "height": 564
        },
        "outputId": "086e62c5-cf07-4c25-804d-34d64a2cd198"
      },
      "outputs": [
        {
          "output_type": "display_data",
          "data": {
            "text/plain": [
              "<Figure size 600x600 with 2 Axes>"
            ],
            "image/png": "[encoded data removed]"
          },
          "metadata": {}
        }
      ],
      "source": [
        "conf_mat3 = confusion_matrix(y_test,p3)\n",
        "plt.figure(figsize = (6,6))\n",
        "sns.heatmap(conf_mat3, annot = True, fmt =\".0f\")\n",
        "plt.ylabel(\"ACTUAL\")\n",
        "plt.xlabel(\"PREDICTED\")\n",
        "plt.title(\"SVM CONFUSION MATRIX\")\n",
        "plt.show()"
      ]
    },
    {
      "cell_type": "markdown",
      "metadata": {
        "id": "9WPyfJMIFF3R"
      },
      "source": [
        "KNN confusion matrix"
      ]
    },
    {
      "cell_type": "code",
      "execution_count": null,
      "metadata": {
        "id": "EC3YYow4FF3R",
        "colab": {
          "base_uri": "https://localhost:8080/",
          "height": 564
        },
        "outputId": "6119d9e8-3546-4bb4-dc0b-26e726fbd62b"
      },
      "outputs": [
        {
          "output_type": "display_data",
          "data": {
            "text/plain": [
              "<Figure size 600x600 with 2 Axes>"
            ],
            "image/png": "[encoded data removed]"
          },
          "metadata": {}
        }
      ],
      "source": [
        "conf_mat4 = confusion_matrix(y_test,p4)\n",
        "plt.figure(figsize = (6,6))\n",
        "sns.heatmap(conf_mat4, annot = True, fmt =\".0f\")\n",
        "plt.ylabel(\"ACTUAL\")\n",
        "plt.xlabel(\"PREDICTED\")\n",
        "plt.title(\"KNN CONFUSION MATRIX\")\n",
        "plt.show()"
      ]
    },
    {
      "cell_type": "markdown",
      "metadata": {
        "id": "aiz4WcXeFF3S"
      },
      "source": [
        "Logistic Regression confusion matrix"
      ]
    },
    {
      "cell_type": "code",
      "execution_count": null,
      "metadata": {
        "id": "wWT8EfGsFF3S",
        "colab": {
          "base_uri": "https://localhost:8080/",
          "height": 564
        },
        "outputId": "cf531fe8-36b3-40b0-beec-71c781406691"
      },
      "outputs": [
        {
          "output_type": "display_data",
          "data": {
            "text/plain": [
              "<Figure size 600x600 with 2 Axes>"
            ],
            "image/png": "[encoded data removed]"
          },
          "metadata": {}
        }
      ],
      "source": [
        "conf_mat5 = confusion_matrix(y_test,p5)\n",
        "plt.figure(figsize = (6,6))\n",
        "sns.heatmap(conf_mat5, annot = True, fmt =\".0f\")\n",
        "plt.ylabel(\"ACTUAL\")\n",
        "plt.xlabel(\"PREDICTED\")\n",
        "plt.title(\"LOGISTIC REGRESSION CONFUSION MATRIX\")\n",
        "plt.show()"
      ]
    },
    {
      "cell_type": "markdown",
      "metadata": {
        "id": "AEtVrdnsFF3T"
      },
      "source": [
        "CONCLUSION:\n",
        "      WE CAN SAY THAT THE RANDOM FOREST CLASSIFIER MODEL IS BETTER SUITED FOR THIS PROBLEM, AS THE PRECISION, F1-SCORE, RECALL AND ACCURACY ACHIEVED BY RANDOM FOREST CLASSIFIER IS BETTER THAN REST OF THE CLASSIFIER MODELS."
      ]
    }
  ],
  "metadata": {
    "colab": {
      "provenance": []
    },
    "interpreter": {
      "hash": "36fde469e9af799a13a8621c0b6f2f56fd198441abb6864f5e8f16e4e8bf39da"
    },
    "kernelspec": {
      "display_name": "Python 3.10.4 64-bit",
      "language": "python",
      "name": "python3"
    },
    "language_info": {
      "codemirror_mode": {
        "name": "ipython",
        "version": 3
      },
      "file_extension": ".py",
      "mimetype": "text/x-python",
      "name": "python",
      "nbconvert_exporter": "python",
      "pygments_lexer": "ipython3",
      "version": "3.10.4"
    }
  },
  "nbformat": 4,
  "nbformat_minor": 0
}